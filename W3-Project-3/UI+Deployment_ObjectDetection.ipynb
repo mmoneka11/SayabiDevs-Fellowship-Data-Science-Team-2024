{
  "nbformat": 4,
  "nbformat_minor": 0,
  "metadata": {
    "colab": {
      "provenance": []
    },
    "kernelspec": {
      "name": "python3",
      "display_name": "Python 3"
    },
    "language_info": {
      "name": "python"
    }
  },
  "cells": [
    {
      "cell_type": "markdown",
      "source": [
        "## Mount Drive and Clone Git"
      ],
      "metadata": {
        "id": "-gnD3y-W5sfG"
      }
    },
    {
      "cell_type": "code",
      "source": [
        "from google.colab import drive\n",
        "drive.mount('/content/drive')"
      ],
      "metadata": {
        "colab": {
          "base_uri": "https://localhost:8080/"
        },
        "id": "FWNzhoQU0OGv",
        "outputId": "70d24d41-1a77-4237-e6e6-c22b118140b2"
      },
      "execution_count": 138,
      "outputs": [
        {
          "output_type": "stream",
          "name": "stdout",
          "text": [
            "Drive already mounted at /content/drive; to attempt to forcibly remount, call drive.mount(\"/content/drive\", force_remount=True).\n"
          ]
        }
      ]
    },
    {
      "cell_type": "code",
      "source": [
        "!mkdir -p /content/drive/My\\ Drive/Object_Detection"
      ],
      "metadata": {
        "id": "Cl5IzrUrBy-S"
      },
      "execution_count": null,
      "outputs": []
    },
    {
      "cell_type": "code",
      "source": [
        "%cd /content/drive/My\\ Drive/Object_Detection"
      ],
      "metadata": {
        "colab": {
          "base_uri": "https://localhost:8080/"
        },
        "id": "Cpr3wT4s0s3b",
        "outputId": "911bb33e-f875-446c-8838-fe3403f6e1da"
      },
      "execution_count": 139,
      "outputs": [
        {
          "output_type": "stream",
          "name": "stdout",
          "text": [
            "/content/drive/My Drive/Object_Detection\n"
          ]
        }
      ]
    },
    {
      "cell_type": "code",
      "execution_count": null,
      "metadata": {
        "colab": {
          "base_uri": "https://localhost:8080/"
        },
        "id": "u1gYAYw0z_OW",
        "outputId": "376c1834-bc4c-4feb-84de-60b972d69531"
      },
      "outputs": [
        {
          "output_type": "stream",
          "name": "stdout",
          "text": [
            "Cloning into 'object_detection'...\n",
            "remote: Enumerating objects: 5, done.\u001b[K\n",
            "remote: Counting objects: 100% (5/5), done.\u001b[K\n",
            "remote: Compressing objects: 100% (5/5), done.\u001b[K\n",
            "remote: Total 5 (delta 0), reused 0 (delta 0), pack-reused 0 (from 0)\u001b[K\n",
            "Receiving objects: 100% (5/5), 14.49 MiB | 7.82 MiB/s, done.\n"
          ]
        }
      ],
      "source": [
        "!git clone https://github.com/21k-3103-Fahad/object_detection.git"
      ]
    },
    {
      "cell_type": "markdown",
      "source": [
        "## Write Flask App"
      ],
      "metadata": {
        "id": "mNGAXQF05nk3"
      }
    },
    {
      "cell_type": "code",
      "source": [
        "!pip install Flask"
      ],
      "metadata": {
        "colab": {
          "base_uri": "https://localhost:8080/"
        },
        "id": "uUBe2ONS1-kD",
        "outputId": "72e7e149-efd4-421b-f05a-6cd8aef852b9"
      },
      "execution_count": 140,
      "outputs": [
        {
          "output_type": "stream",
          "name": "stdout",
          "text": [
            "Requirement already satisfied: Flask in /usr/local/lib/python3.10/dist-packages (2.2.5)\n",
            "Requirement already satisfied: Werkzeug>=2.2.2 in /usr/local/lib/python3.10/dist-packages (from Flask) (3.0.3)\n",
            "Requirement already satisfied: Jinja2>=3.0 in /usr/local/lib/python3.10/dist-packages (from Flask) (3.1.4)\n",
            "Requirement already satisfied: itsdangerous>=2.0 in /usr/local/lib/python3.10/dist-packages (from Flask) (2.2.0)\n",
            "Requirement already satisfied: click>=8.0 in /usr/local/lib/python3.10/dist-packages (from Flask) (8.1.7)\n",
            "Requirement already satisfied: MarkupSafe>=2.0 in /usr/local/lib/python3.10/dist-packages (from Jinja2>=3.0->Flask) (2.1.5)\n"
          ]
        }
      ]
    },
    {
      "cell_type": "markdown",
      "source": [
        "### app.py"
      ],
      "metadata": {
        "id": "DrgpQSmukKi2"
      }
    },
    {
      "cell_type": "code",
      "source": [
        "%%writefile /content/drive/MyDrive/Object_Detection/object_detection/app.py\n",
        "from flask import Flask, request, jsonify, render_template\n",
        "from tensorflow.keras.models import load_model\n",
        "from tensorflow.keras.preprocessing import image\n",
        "import numpy as np\n",
        "import os\n",
        "\n",
        "# Initialize Flask app\n",
        "app = Flask(__name__)\n",
        "\n",
        "# Load the pre-trained model\n",
        "custom_model = load_model(\"/content/drive/MyDrive/Object_Detection/object_detection/cifar10_model.h5\")\n",
        "\n",
        "# CIFAR-10 class labels\n",
        "class_labels = ['airplane', 'automobile', 'bird', 'cat', 'deer',\n",
        "                'dog', 'frog', 'horse', 'ship', 'truck']\n",
        "\n",
        "# Function to preprocess image\n",
        "def preprocess_image(img_path):\n",
        "    img = image.load_img(img_path, target_size=(32, 32))  # Resize to 32x32\n",
        "    img_array = image.img_to_array(img)  # Convert to array\n",
        "    img_array = img_array.astype('float32') / 255.0  # Normalize the image\n",
        "    img_array = np.expand_dims(img_array, axis=0)  # Add batch dimension\n",
        "    return img_array\n",
        "\n",
        "# Route to handle file upload and prediction\n",
        "@app.route('/', methods=['GET', 'POST'])\n",
        "def upload_file():\n",
        "    if request.method == 'POST':\n",
        "        # Check if the post request has the file part\n",
        "        if 'file' not in request.files:\n",
        "            return jsonify({'error': 'No file part'})\n",
        "        file = request.files['file']\n",
        "        if file.filename == '':\n",
        "            return jsonify({'error': 'No selected file'})\n",
        "        if file:\n",
        "            try:\n",
        "                # Save the file to disk\n",
        "                filepath = os.path.join('/content/', file.filename)\n",
        "                file.save(filepath)\n",
        "\n",
        "                # Preprocess the image\n",
        "                img_array = preprocess_image(filepath)\n",
        "\n",
        "                # Make prediction\n",
        "                predictions = custom_model.predict(img_array)\n",
        "                predicted_class_index = np.argmax(predictions)\n",
        "                predicted_class = class_labels[predicted_class_index]\n",
        "                predicted_confidence = (predictions[0][predicted_class_index]) * 100\n",
        "\n",
        "                # Remove the file after processing\n",
        "                os.remove(filepath)\n",
        "\n",
        "                return jsonify({\n",
        "                    'predicted_class': predicted_class,\n",
        "                    'predicted_confidence': f'{predicted_confidence:.2f}'\n",
        "                })\n",
        "            except Exception as e:\n",
        "                return jsonify({'error': str(e)})\n",
        "    return '''\n",
        "    <!doctype html>\n",
        "    <title>Upload an Image</title>\n",
        "    <h1>Upload an image for CIFAR-10 classification</h1>\n",
        "    <form method=post enctype=multipart/form-data>\n",
        "      <input type=file name=file>\n",
        "      <input type=submit value=Upload>\n",
        "    </form>\n",
        "    '''\n",
        "\n",
        "# Run the app\n",
        "if __name__ == '__main__':\n",
        "   app.run(debug=False, port=8501)  # Explicitly specify the port\n",
        "\n"
      ],
      "metadata": {
        "colab": {
          "base_uri": "https://localhost:8080/"
        },
        "id": "GHsPqVno3L37",
        "outputId": "e2e4c125-da4f-480b-e1ae-05fa11080e7f"
      },
      "execution_count": 303,
      "outputs": [
        {
          "output_type": "stream",
          "name": "stdout",
          "text": [
            "Overwriting /content/drive/MyDrive/Object_Detection/object_detection/app.py\n"
          ]
        }
      ]
    },
    {
      "cell_type": "markdown",
      "source": [
        "## Run & Deploy App"
      ],
      "metadata": {
        "id": "MJGUreQo24wH"
      }
    },
    {
      "cell_type": "code",
      "source": [
        "# Install ngrok:\n",
        "!pip install pyngrok\n",
        "from pyngrok import ngrok"
      ],
      "metadata": {
        "colab": {
          "base_uri": "https://localhost:8080/"
        },
        "id": "-OiVdXRs2dW4",
        "outputId": "151789ee-4271-48d8-b7b0-f0706708ee21"
      },
      "execution_count": 178,
      "outputs": [
        {
          "output_type": "stream",
          "name": "stdout",
          "text": [
            "Requirement already satisfied: pyngrok in /usr/local/lib/python3.10/dist-packages (7.2.0)\n",
            "Requirement already satisfied: PyYAML>=5.1 in /usr/local/lib/python3.10/dist-packages (from pyngrok) (6.0.2)\n"
          ]
        }
      ]
    },
    {
      "cell_type": "code",
      "source": [
        "!pip install flask-ngrok"
      ],
      "metadata": {
        "colab": {
          "base_uri": "https://localhost:8080/"
        },
        "id": "P2KV_as_iXN3",
        "outputId": "dad0c48c-dd7d-4a0f-bfb7-23782ace8249"
      },
      "execution_count": 179,
      "outputs": [
        {
          "output_type": "stream",
          "name": "stdout",
          "text": [
            "Requirement already satisfied: flask-ngrok in /usr/local/lib/python3.10/dist-packages (0.0.25)\n",
            "Requirement already satisfied: Flask>=0.8 in /usr/local/lib/python3.10/dist-packages (from flask-ngrok) (2.2.5)\n",
            "Requirement already satisfied: requests in /usr/local/lib/python3.10/dist-packages (from flask-ngrok) (2.32.3)\n",
            "Requirement already satisfied: Werkzeug>=2.2.2 in /usr/local/lib/python3.10/dist-packages (from Flask>=0.8->flask-ngrok) (3.0.3)\n",
            "Requirement already satisfied: Jinja2>=3.0 in /usr/local/lib/python3.10/dist-packages (from Flask>=0.8->flask-ngrok) (3.1.4)\n",
            "Requirement already satisfied: itsdangerous>=2.0 in /usr/local/lib/python3.10/dist-packages (from Flask>=0.8->flask-ngrok) (2.2.0)\n",
            "Requirement already satisfied: click>=8.0 in /usr/local/lib/python3.10/dist-packages (from Flask>=0.8->flask-ngrok) (8.1.7)\n",
            "Requirement already satisfied: charset-normalizer<4,>=2 in /usr/local/lib/python3.10/dist-packages (from requests->flask-ngrok) (3.3.2)\n",
            "Requirement already satisfied: idna<4,>=2.5 in /usr/local/lib/python3.10/dist-packages (from requests->flask-ngrok) (3.7)\n",
            "Requirement already satisfied: urllib3<3,>=1.21.1 in /usr/local/lib/python3.10/dist-packages (from requests->flask-ngrok) (2.0.7)\n",
            "Requirement already satisfied: certifi>=2017.4.17 in /usr/local/lib/python3.10/dist-packages (from requests->flask-ngrok) (2024.7.4)\n",
            "Requirement already satisfied: MarkupSafe>=2.0 in /usr/local/lib/python3.10/dist-packages (from Jinja2>=3.0->Flask>=0.8->flask-ngrok) (2.1.5)\n"
          ]
        }
      ]
    },
    {
      "cell_type": "code",
      "source": [
        "# Authenticate ngrok:\n",
        "# !ngrok authtoken YOUR_AUTHTOKEN_HERE\n",
        "!ngrok config add-authtoken '2kt3XyY4IBykUPD5JUcoExZcbtG_59PUiF5Ay7Xkk1QUDiQMp'"
      ],
      "metadata": {
        "colab": {
          "base_uri": "https://localhost:8080/"
        },
        "id": "UHvQ2IiN4yaw",
        "outputId": "b950229a-bbf6-4299-af3e-124bd40cb5f4"
      },
      "execution_count": 226,
      "outputs": [
        {
          "output_type": "stream",
          "name": "stdout",
          "text": [
            "Authtoken saved to configuration file: /root/.config/ngrok/ngrok.yml\n"
          ]
        }
      ]
    },
    {
      "cell_type": "code",
      "source": [
        "ngrok.set_auth_token(\"2kt3XyY4IBykUPD5JUcoExZcbtG_59PUiF5Ay7Xkk1QUDiQMp\")"
      ],
      "metadata": {
        "id": "LmE5tQBtQHTO"
      },
      "execution_count": 227,
      "outputs": []
    },
    {
      "cell_type": "code",
      "source": [
        "# Set up ngrok and start the Flask\n",
        "from pyngrok import ngrok\n",
        "\n",
        "# Run the Flask app in collab\n",
        "public_url = ngrok.connect(5000)\n",
        "print(f'Public URL: {public_url}')\n",
        "\n",
        "# Start Flask app\n",
        "app.run()"
      ],
      "metadata": {
        "colab": {
          "base_uri": "https://localhost:8080/"
        },
        "id": "7i0UXUYZ4sP5",
        "outputId": "64d90960-0a79-44f2-f600-47132317216e"
      },
      "execution_count": 182,
      "outputs": [
        {
          "output_type": "stream",
          "name": "stdout",
          "text": [
            "Public URL: NgrokTunnel: \"https://4c38-35-203-150-83.ngrok-free.app\" -> \"http://localhost:5000\"\n",
            " * Serving Flask app '__main__'\n",
            " * Debug mode: off\n"
          ]
        },
        {
          "output_type": "stream",
          "name": "stderr",
          "text": [
            "INFO:werkzeug:\u001b[31m\u001b[1mWARNING: This is a development server. Do not use it in a production deployment. Use a production WSGI server instead.\u001b[0m\n",
            " * Running on http://127.0.0.1:5000\n",
            "INFO:werkzeug:\u001b[33mPress CTRL+C to quit\u001b[0m\n",
            "INFO:werkzeug:127.0.0.1 - - [21/Aug/2024 01:55:06] \"GET / HTTP/1.1\" 200 -\n",
            "INFO:werkzeug:127.0.0.1 - - [21/Aug/2024 01:55:07] \"\u001b[33mGET /favicon.ico HTTP/1.1\u001b[0m\" 404 -\n"
          ]
        },
        {
          "output_type": "stream",
          "name": "stdout",
          "text": [
            "\u001b[1m1/1\u001b[0m \u001b[32m━━━━━━━━━━━━━━━━━━━━\u001b[0m\u001b[37m\u001b[0m \u001b[1m0s\u001b[0m 354ms/step\n"
          ]
        },
        {
          "output_type": "stream",
          "name": "stderr",
          "text": [
            "INFO:werkzeug:127.0.0.1 - - [21/Aug/2024 01:55:16] \"POST / HTTP/1.1\" 200 -\n",
            "INFO:werkzeug:127.0.0.1 - - [21/Aug/2024 01:55:17] \"\u001b[33mGET /static/frog_test.jpg HTTP/1.1\u001b[0m\" 404 -\n"
          ]
        }
      ]
    },
    {
      "cell_type": "code",
      "source": [
        "ngrok.kill()\n",
        "# !pkill ngrok"
      ],
      "metadata": {
        "id": "JGjrSd5b-pTC"
      },
      "execution_count": 304,
      "outputs": []
    },
    {
      "cell_type": "code",
      "source": [
        "# Run the Flask App with ngrok:\n",
        "\n",
        "from pyngrok import ngrok\n",
        "\n",
        "# Close any existing ngrok tunnels\n",
        "# ngrok.kill()\n",
        "!nohup python /content/drive/MyDrive/Object_Detection/object_detection/app.py &\n",
        "\n",
        "# Open a new ngrok tunnel to the Flask app running on port 8501\n",
        "# public_url = ngrok.connect(8501)\n",
        "public_url = ngrok.connect(8501, proto= 'http', bind_tls=True)\n",
        "print('Flask app is live at:', public_url)\n",
        "\n",
        "# Internal Server Error"
      ],
      "metadata": {
        "colab": {
          "base_uri": "https://localhost:8080/"
        },
        "id": "_759-y8bEOq0",
        "outputId": "b8f9745c-e9cb-41f7-b110-50ab979c7925"
      },
      "execution_count": 305,
      "outputs": [
        {
          "output_type": "stream",
          "name": "stdout",
          "text": [
            "nohup: appending output to 'nohup.out'\n",
            "Flask app is live at: NgrokTunnel: \"https://246e-35-203-150-83.ngrok-free.app\" -> \"http://localhost:8501\"\n"
          ]
        }
      ]
    },
    {
      "cell_type": "markdown",
      "source": [
        "We have temporarily deployed our app on `ngrok`.\n",
        "\n",
        "Open a web browser and navigate to the public URL to access the Flask App.\n"
      ],
      "metadata": {
        "id": "o4dM_wzlg3_V"
      }
    },
    {
      "cell_type": "markdown",
      "source": [
        "## Deployed App"
      ],
      "metadata": {
        "id": "DQqNga79gu9Y"
      }
    },
    {
      "cell_type": "markdown",
      "source": [
        "![1app.PNG](data:image/png;base64,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)"
      ],
      "metadata": {
        "id": "nODsUJ9Wgedf"
      }
    },
    {
      "cell_type": "markdown",
      "source": [
        "![2ap.PNG](data:image/png;base64,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)"
      ],
      "metadata": {
        "id": "AcjR3XtfgmUA"
      }
    },
    {
      "cell_type": "markdown",
      "source": [
        "\n",
        "\n",
        "---\n",
        "\n",
        "\n",
        "\n",
        "---\n",
        "\n"
      ],
      "metadata": {
        "id": "hKzNdUKjgT6j"
      }
    },
    {
      "cell_type": "markdown",
      "source": [
        "**UI & Deployment Done by Hassan, Moneka, Shaeel**"
      ],
      "metadata": {
        "id": "hk6CU1Wrkvyx"
      }
    }
  ]
}