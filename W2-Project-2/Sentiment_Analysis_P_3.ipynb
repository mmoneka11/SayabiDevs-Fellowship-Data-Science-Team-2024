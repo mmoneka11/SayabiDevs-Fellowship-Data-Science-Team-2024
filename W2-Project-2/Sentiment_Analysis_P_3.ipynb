{
  "cells": [
    {
      "cell_type": "markdown",
      "metadata": {
        "id": "-F7W8vcWPgs3"
      },
      "source": [
        "# **Sentiment Analysis**\n",
        "\n",
        "**Objective:**\n",
        "Create a basic sentiment analysis model that can classify text as positive, negative, or neutral using Python. This task will involve data preprocessing, model training, and evaluation.\n",
        "\n",
        "Dataset used: https://www.kaggle.com/datasets/lakshmi25npathi/imdb-dataset-of-50k-movie-reviews"
      ]
    },
    {
      "cell_type": "markdown",
      "metadata": {
        "id": "kMRMjiFNCUUw"
      },
      "source": [
        "## Imports"
      ]
    },
    {
      "cell_type": "code",
      "execution_count": 1,
      "metadata": {
        "id": "0lqvT_FbPgs9"
      },
      "outputs": [],
      "source": [
        "import nltk\n",
        "import numpy as np\n",
        "import pandas as pd\n",
        "import matplotlib.pyplot as plt\n",
        "from nltk.corpus import stopwords\n",
        "import re\n",
        "import string\n",
        "from sklearn.preprocessing import LabelEncoder\n",
        "from sklearn.model_selection import train_test_split\n",
        "from sklearn.feature_extraction.text import CountVectorizer\n",
        "from sklearn.linear_model import LogisticRegression\n",
        "from sklearn.ensemble import RandomForestClassifier\n",
        "from sklearn.metrics import confusion_matrix, classification_report, accuracy_score, log_loss\n",
        "\n",
        "from sklearn.naive_bayes import GaussianNB\n",
        "from sklearn.naive_bayes import MultinomialNB,BernoulliNB\n",
        "from sklearn.metrics import accuracy_score, confusion_matrix\n",
        "\n",
        "# import tensorflow_hub as hub\n",
        "# import tensorflow as tf\n",
        "from tensorflow.keras.models import Model, Sequential, load_model\n",
        "from tensorflow.keras.layers import Input, LSTM, RepeatVector, TimeDistributed, Dense, Embedding, Dropout, InputLayer\n",
        "from tensorflow.keras.optimizers import Adam\n",
        "from tensorflow.keras.preprocessing.text import Tokenizer, tokenizer_from_json\n",
        "from tensorflow.keras.preprocessing.sequence import pad_sequences\n",
        "\n",
        "import warnings\n",
        "warnings.filterwarnings('ignore')\n",
        "\n",
        "import tkinter as tk\n",
        "from tkinter import ttk\n",
        "import joblib\n",
        "import json"
      ]
    },
    {
      "cell_type": "markdown",
      "metadata": {
        "id": "0iMYa7njPgtA"
      },
      "source": [
        "## Data Preprocessing"
      ]
    },
    {
      "cell_type": "code",
      "execution_count": null,
      "metadata": {
        "colab": {
          "base_uri": "https://localhost:8080/"
        },
        "id": "o3e2PsPsFKcv",
        "outputId": "31826748-5561-42b3-a928-c7ca78f7e8a2"
      },
      "outputs": [
        {
          "name": "stdout",
          "output_type": "stream",
          "text": [
            "Requirement already satisfied: kaggle in /usr/local/lib/python3.10/dist-packages (1.6.14)\n",
            "Requirement already satisfied: six>=1.10 in /usr/local/lib/python3.10/dist-packages (from kaggle) (1.16.0)\n",
            "Requirement already satisfied: certifi>=2023.7.22 in /usr/local/lib/python3.10/dist-packages (from kaggle) (2024.7.4)\n",
            "Requirement already satisfied: python-dateutil in /usr/local/lib/python3.10/dist-packages (from kaggle) (2.8.2)\n",
            "Requirement already satisfied: requests in /usr/local/lib/python3.10/dist-packages (from kaggle) (2.31.0)\n",
            "Requirement already satisfied: tqdm in /usr/local/lib/python3.10/dist-packages (from kaggle) (4.66.4)\n",
            "Requirement already satisfied: python-slugify in /usr/local/lib/python3.10/dist-packages (from kaggle) (8.0.4)\n",
            "Requirement already satisfied: urllib3 in /usr/local/lib/python3.10/dist-packages (from kaggle) (2.0.7)\n",
            "Requirement already satisfied: bleach in /usr/local/lib/python3.10/dist-packages (from kaggle) (6.1.0)\n",
            "Requirement already satisfied: webencodings in /usr/local/lib/python3.10/dist-packages (from bleach->kaggle) (0.5.1)\n",
            "Requirement already satisfied: text-unidecode>=1.3 in /usr/local/lib/python3.10/dist-packages (from python-slugify->kaggle) (1.3)\n",
            "Requirement already satisfied: charset-normalizer<4,>=2 in /usr/local/lib/python3.10/dist-packages (from requests->kaggle) (3.3.2)\n",
            "Requirement already satisfied: idna<4,>=2.5 in /usr/local/lib/python3.10/dist-packages (from requests->kaggle) (3.7)\n",
            "Warning: Looks like you're using an outdated API Version, please consider updating (server 1.6.17 / client 1.6.14)\n",
            "Dataset URL: https://www.kaggle.com/datasets/lakshmi25npathi/imdb-dataset-of-50k-movie-reviews\n",
            "License(s): other\n",
            "Downloading imdb-dataset-of-50k-movie-reviews.zip to /content/drive/My Drive/Datasets\n",
            " 97% 25.0M/25.7M [00:01<00:00, 35.9MB/s]\n",
            "100% 25.7M/25.7M [00:01<00:00, 22.3MB/s]\n",
            "DataFrame has been saved.\n"
          ]
        },
        {
          "data": {
            "application/vnd.google.colaboratory.intrinsic+json": {
              "summary": "{\n  \"name\": \"df\",\n  \"rows\": 50000,\n  \"fields\": [\n    {\n      \"column\": \"review\",\n      \"properties\": {\n        \"dtype\": \"string\",\n        \"num_unique_values\": 49582,\n        \"samples\": [\n          \"\\\"Soul Plane\\\" is a horrible attempt at comedy that only should appeal people with thick skulls, bloodshot eyes and furry pawns. <br /><br />The plot is not only incoherent but also non-existent, acting is mostly sub sub-par with a gang of highly moronic and dreadful characters thrown in for bad measure, jokes are often spotted miles ahead and almost never even a bit amusing. This movie lacks any structure and is full of racial stereotypes that must have seemed old even in the fifties, the only thing it really has going for it is some pretty ladies, but really, if you want that you can rent something from the \\\"Adult\\\" section. OK?<br /><br />I can hardly see anything here to recommend since you'll probably have a lot a better and productive time chasing rats with a sledgehammer or inventing waterproof teabags or whatever.<br /><br />2/10\",\n          \"Guest from the Future tells a fascinating story of time travel, friendship, battle of good and evil -- all with a small budget, child actors, and few special effects. Something for Spielberg and Lucas to learn from. ;) A sixth-grader Kolya \\\"Nick\\\" Gerasimov finds a time machine in the basement of a decrepit building and travels 100 years into the future. He discovers a near-perfect, utopian society where robots play guitars and write poetry, everyone is kind to each other and people enjoy everything technology has to offer. Alice is the daughter of a prominent scientist who invented a device called Mielophone that allows to read minds of humans and animals. The device can be put to both good and bad use, depending on whose hands it falls into. When two evil space pirates from Saturn who want to rule the universe attempt to steal Mielophone, it falls into the hands of 20th century school boy Nick. With the pirates hot on his tracks, he travels back to his time, followed by the pirates, and Alice. Chaos, confusion and funny situations follow as the luckless pirates try to blend in with the earthlings. Alice enrolls in the same school Nick goes to and demonstrates superhuman abilities in PE class. The catch is, Alice doesn't know what Nick looks like, while the pirates do. Also, the pirates are able to change their appearance and turn literally into anyone. (Hmm, I wonder if this is where James Cameron got the idea for Terminator...) Who gets to Nick -- and Mielophone -- first? Excellent plot, non-stop adventures, and great soundtrack. I wish Hollywood made kid movies like this one...\",\n          \"\\\"National Treasure\\\" (2004) is a thoroughly misguided hodge-podge of plot entanglements that borrow from nearly every cloak and dagger government conspiracy clich\\u00e9 that has ever been written. The film stars Nicholas Cage as Benjamin Franklin Gates (how precious is that, I ask you?); a seemingly normal fellow who, for no other reason than being of a lineage of like-minded misguided fortune hunters, decides to steal a 'national treasure' that has been hidden by the United States founding fathers. After a bit of subtext and background that plays laughably (unintentionally) like Indiana Jones meets The Patriot, the film degenerates into one misguided whimsy after another \\u0096 attempting to create a 'Stanley Goodspeed' regurgitation of Nicholas Cage and launch the whole convoluted mess forward with a series of high octane, but disconnected misadventures.<br /><br />The relevancy and logic to having George Washington and his motley crew of patriots burying a king's ransom someplace on native soil, and then, going through the meticulous plan of leaving clues scattered throughout U.S. currency art work, is something that director Jon Turteltaub never quite gets around to explaining. Couldn't Washington found better usage for such wealth during the start up of the country? Hence, we are left with a mystery built on top of an enigma that is already on shaky ground by the time Ben appoints himself the new custodian of this untold wealth. Ben's intentions are noble \\u0096 if confusing. He's set on protecting the treasure. For who and when?\\u0085your guess is as good as mine.<br /><br />But there are a few problems with Ben's crusade. First up, his friend, Ian Holmes (Sean Bean) decides that he can't wait for Ben to make up his mind about stealing the Declaration of Independence from the National Archives (oh, yeah \\u0096 brilliant idea!). Presumably, the back of that famous document holds the secret answer to the ultimate fortune. So Ian tries to kill Ben. The assassination attempt is, of course, unsuccessful, if overly melodramatic. It also affords Ben the opportunity to pick up, and pick on, the very sultry curator of the archives, Abigail Chase (Diane Kruger). She thinks Ben is clearly a nut \\u0096 at least at the beginning. But true to action/romance form, Abby's resolve melts quicker than you can say, \\\"is that the Hope Diamond?\\\" The film moves into full X-File-ish mode, as the FBI, mistakenly believing that Ben is behind the theft, retaliate in various benign ways that lead to a multi-layering of action sequences reminiscent of Mission Impossible meets The Fugitive. Honestly, don't those guys ever get 'intelligence' information that is correct? In the final analysis, \\\"National Treasure\\\" isn't great film making, so much as it's a patchwork rehash of tired old bits from other movies, woven together from scraps, the likes of which would make IL' Betsy Ross blush.<br /><br />The Buena Vista DVD delivers a far more generous treatment than this film is deserving of. The anamorphic widescreen picture exhibits a very smooth and finely detailed image with very rich colors, natural flesh tones, solid blacks and clean whites. The stylized image is also free of blemishes and digital enhancements. The audio is 5.1 and delivers a nice sonic boom to your side and rear speakers with intensity and realism. Extras include a host of promotional junket material that is rather deep and over the top in its explanation of how and why this film was made. If only, as an audience, we had had more clarification as to why Ben and co. were chasing after an illusive treasure, this might have been one good flick. Extras conclude with the theatrical trailer, audio commentary and deleted scenes. Not for the faint-hearted \\u0096 just the thick-headed.\"\n        ],\n        \"semantic_type\": \"\",\n        \"description\": \"\"\n      }\n    },\n    {\n      \"column\": \"sentiment\",\n      \"properties\": {\n        \"dtype\": \"category\",\n        \"num_unique_values\": 2,\n        \"samples\": [\n          \"negative\",\n          \"positive\"\n        ],\n        \"semantic_type\": \"\",\n        \"description\": \"\"\n      }\n    }\n  ]\n}",
              "type": "dataframe",
              "variable_name": "df"
            },
            "text/html": [
              "\n",
              "  <div id=\"df-0e5a3456-d1d2-4781-b77d-7397951e336d\" class=\"colab-df-container\">\n",
              "    <div>\n",
              "<style scoped>\n",
              "    .dataframe tbody tr th:only-of-type {\n",
              "        vertical-align: middle;\n",
              "    }\n",
              "\n",
              "    .dataframe tbody tr th {\n",
              "        vertical-align: top;\n",
              "    }\n",
              "\n",
              "    .dataframe thead th {\n",
              "        text-align: right;\n",
              "    }\n",
              "</style>\n",
              "<table border=\"1\" class=\"dataframe\">\n",
              "  <thead>\n",
              "    <tr style=\"text-align: right;\">\n",
              "      <th></th>\n",
              "      <th>review</th>\n",
              "      <th>sentiment</th>\n",
              "    </tr>\n",
              "  </thead>\n",
              "  <tbody>\n",
              "    <tr>\n",
              "      <th>0</th>\n",
              "      <td>One of the other reviewers has mentioned that ...</td>\n",
              "      <td>positive</td>\n",
              "    </tr>\n",
              "    <tr>\n",
              "      <th>1</th>\n",
              "      <td>A wonderful little production. &lt;br /&gt;&lt;br /&gt;The...</td>\n",
              "      <td>positive</td>\n",
              "    </tr>\n",
              "    <tr>\n",
              "      <th>2</th>\n",
              "      <td>I thought this was a wonderful way to spend ti...</td>\n",
              "      <td>positive</td>\n",
              "    </tr>\n",
              "    <tr>\n",
              "      <th>3</th>\n",
              "      <td>Basically there's a family where a little boy ...</td>\n",
              "      <td>negative</td>\n",
              "    </tr>\n",
              "    <tr>\n",
              "      <th>4</th>\n",
              "      <td>Petter Mattei's \"Love in the Time of Money\" is...</td>\n",
              "      <td>positive</td>\n",
              "    </tr>\n",
              "  </tbody>\n",
              "</table>\n",
              "</div>\n",
              "    <div class=\"colab-df-buttons\">\n",
              "\n",
              "  <div class=\"colab-df-container\">\n",
              "    <button class=\"colab-df-convert\" onclick=\"convertToInteractive('df-0e5a3456-d1d2-4781-b77d-7397951e336d')\"\n",
              "            title=\"Convert this dataframe to an interactive table.\"\n",
              "            style=\"display:none;\">\n",
              "\n",
              "  <svg xmlns=\"http://www.w3.org/2000/svg\" height=\"24px\" viewBox=\"0 -960 960 960\">\n",
              "    <path d=\"M120-120v-720h720v720H120Zm60-500h600v-160H180v160Zm220 220h160v-160H400v160Zm0 220h160v-160H400v160ZM180-400h160v-160H180v160Zm440 0h160v-160H620v160ZM180-180h160v-160H180v160Zm440 0h160v-160H620v160Z\"/>\n",
              "  </svg>\n",
              "    </button>\n",
              "\n",
              "  <style>\n",
              "    .colab-df-container {\n",
              "      display:flex;\n",
              "      gap: 12px;\n",
              "    }\n",
              "\n",
              "    .colab-df-convert {\n",
              "      background-color: #E8F0FE;\n",
              "      border: none;\n",
              "      border-radius: 50%;\n",
              "      cursor: pointer;\n",
              "      display: none;\n",
              "      fill: #1967D2;\n",
              "      height: 32px;\n",
              "      padding: 0 0 0 0;\n",
              "      width: 32px;\n",
              "    }\n",
              "\n",
              "    .colab-df-convert:hover {\n",
              "      background-color: #E2EBFA;\n",
              "      box-shadow: 0px 1px 2px rgba(60, 64, 67, 0.3), 0px 1px 3px 1px rgba(60, 64, 67, 0.15);\n",
              "      fill: #174EA6;\n",
              "    }\n",
              "\n",
              "    .colab-df-buttons div {\n",
              "      margin-bottom: 4px;\n",
              "    }\n",
              "\n",
              "    [theme=dark] .colab-df-convert {\n",
              "      background-color: #3B4455;\n",
              "      fill: #D2E3FC;\n",
              "    }\n",
              "\n",
              "    [theme=dark] .colab-df-convert:hover {\n",
              "      background-color: #434B5C;\n",
              "      box-shadow: 0px 1px 3px 1px rgba(0, 0, 0, 0.15);\n",
              "      filter: drop-shadow(0px 1px 2px rgba(0, 0, 0, 0.3));\n",
              "      fill: #FFFFFF;\n",
              "    }\n",
              "  </style>\n",
              "\n",
              "    <script>\n",
              "      const buttonEl =\n",
              "        document.querySelector('#df-0e5a3456-d1d2-4781-b77d-7397951e336d button.colab-df-convert');\n",
              "      buttonEl.style.display =\n",
              "        google.colab.kernel.accessAllowed ? 'block' : 'none';\n",
              "\n",
              "      async function convertToInteractive(key) {\n",
              "        const element = document.querySelector('#df-0e5a3456-d1d2-4781-b77d-7397951e336d');\n",
              "        const dataTable =\n",
              "          await google.colab.kernel.invokeFunction('convertToInteractive',\n",
              "                                                    [key], {});\n",
              "        if (!dataTable) return;\n",
              "\n",
              "        const docLinkHtml = 'Like what you see? Visit the ' +\n",
              "          '<a target=\"_blank\" href=https://colab.research.google.com/notebooks/data_table.ipynb>data table notebook</a>'\n",
              "          + ' to learn more about interactive tables.';\n",
              "        element.innerHTML = '';\n",
              "        dataTable['output_type'] = 'display_data';\n",
              "        await google.colab.output.renderOutput(dataTable, element);\n",
              "        const docLink = document.createElement('div');\n",
              "        docLink.innerHTML = docLinkHtml;\n",
              "        element.appendChild(docLink);\n",
              "      }\n",
              "    </script>\n",
              "  </div>\n",
              "\n",
              "\n",
              "<div id=\"df-81435f1c-6e45-4141-bf17-de3c8e140f18\">\n",
              "  <button class=\"colab-df-quickchart\" onclick=\"quickchart('df-81435f1c-6e45-4141-bf17-de3c8e140f18')\"\n",
              "            title=\"Suggest charts\"\n",
              "            style=\"display:none;\">\n",
              "\n",
              "<svg xmlns=\"http://www.w3.org/2000/svg\" height=\"24px\"viewBox=\"0 0 24 24\"\n",
              "     width=\"24px\">\n",
              "    <g>\n",
              "        <path d=\"M19 3H5c-1.1 0-2 .9-2 2v14c0 1.1.9 2 2 2h14c1.1 0 2-.9 2-2V5c0-1.1-.9-2-2-2zM9 17H7v-7h2v7zm4 0h-2V7h2v10zm4 0h-2v-4h2v4z\"/>\n",
              "    </g>\n",
              "</svg>\n",
              "  </button>\n",
              "\n",
              "<style>\n",
              "  .colab-df-quickchart {\n",
              "      --bg-color: #E8F0FE;\n",
              "      --fill-color: #1967D2;\n",
              "      --hover-bg-color: #E2EBFA;\n",
              "      --hover-fill-color: #174EA6;\n",
              "      --disabled-fill-color: #AAA;\n",
              "      --disabled-bg-color: #DDD;\n",
              "  }\n",
              "\n",
              "  [theme=dark] .colab-df-quickchart {\n",
              "      --bg-color: #3B4455;\n",
              "      --fill-color: #D2E3FC;\n",
              "      --hover-bg-color: #434B5C;\n",
              "      --hover-fill-color: #FFFFFF;\n",
              "      --disabled-bg-color: #3B4455;\n",
              "      --disabled-fill-color: #666;\n",
              "  }\n",
              "\n",
              "  .colab-df-quickchart {\n",
              "    background-color: var(--bg-color);\n",
              "    border: none;\n",
              "    border-radius: 50%;\n",
              "    cursor: pointer;\n",
              "    display: none;\n",
              "    fill: var(--fill-color);\n",
              "    height: 32px;\n",
              "    padding: 0;\n",
              "    width: 32px;\n",
              "  }\n",
              "\n",
              "  .colab-df-quickchart:hover {\n",
              "    background-color: var(--hover-bg-color);\n",
              "    box-shadow: 0 1px 2px rgba(60, 64, 67, 0.3), 0 1px 3px 1px rgba(60, 64, 67, 0.15);\n",
              "    fill: var(--button-hover-fill-color);\n",
              "  }\n",
              "\n",
              "  .colab-df-quickchart-complete:disabled,\n",
              "  .colab-df-quickchart-complete:disabled:hover {\n",
              "    background-color: var(--disabled-bg-color);\n",
              "    fill: var(--disabled-fill-color);\n",
              "    box-shadow: none;\n",
              "  }\n",
              "\n",
              "  .colab-df-spinner {\n",
              "    border: 2px solid var(--fill-color);\n",
              "    border-color: transparent;\n",
              "    border-bottom-color: var(--fill-color);\n",
              "    animation:\n",
              "      spin 1s steps(1) infinite;\n",
              "  }\n",
              "\n",
              "  @keyframes spin {\n",
              "    0% {\n",
              "      border-color: transparent;\n",
              "      border-bottom-color: var(--fill-color);\n",
              "      border-left-color: var(--fill-color);\n",
              "    }\n",
              "    20% {\n",
              "      border-color: transparent;\n",
              "      border-left-color: var(--fill-color);\n",
              "      border-top-color: var(--fill-color);\n",
              "    }\n",
              "    30% {\n",
              "      border-color: transparent;\n",
              "      border-left-color: var(--fill-color);\n",
              "      border-top-color: var(--fill-color);\n",
              "      border-right-color: var(--fill-color);\n",
              "    }\n",
              "    40% {\n",
              "      border-color: transparent;\n",
              "      border-right-color: var(--fill-color);\n",
              "      border-top-color: var(--fill-color);\n",
              "    }\n",
              "    60% {\n",
              "      border-color: transparent;\n",
              "      border-right-color: var(--fill-color);\n",
              "    }\n",
              "    80% {\n",
              "      border-color: transparent;\n",
              "      border-right-color: var(--fill-color);\n",
              "      border-bottom-color: var(--fill-color);\n",
              "    }\n",
              "    90% {\n",
              "      border-color: transparent;\n",
              "      border-bottom-color: var(--fill-color);\n",
              "    }\n",
              "  }\n",
              "</style>\n",
              "\n",
              "  <script>\n",
              "    async function quickchart(key) {\n",
              "      const quickchartButtonEl =\n",
              "        document.querySelector('#' + key + ' button');\n",
              "      quickchartButtonEl.disabled = true;  // To prevent multiple clicks.\n",
              "      quickchartButtonEl.classList.add('colab-df-spinner');\n",
              "      try {\n",
              "        const charts = await google.colab.kernel.invokeFunction(\n",
              "            'suggestCharts', [key], {});\n",
              "      } catch (error) {\n",
              "        console.error('Error during call to suggestCharts:', error);\n",
              "      }\n",
              "      quickchartButtonEl.classList.remove('colab-df-spinner');\n",
              "      quickchartButtonEl.classList.add('colab-df-quickchart-complete');\n",
              "    }\n",
              "    (() => {\n",
              "      let quickchartButtonEl =\n",
              "        document.querySelector('#df-81435f1c-6e45-4141-bf17-de3c8e140f18 button');\n",
              "      quickchartButtonEl.style.display =\n",
              "        google.colab.kernel.accessAllowed ? 'block' : 'none';\n",
              "    })();\n",
              "  </script>\n",
              "</div>\n",
              "\n",
              "    </div>\n",
              "  </div>\n"
            ],
            "text/plain": [
              "                                              review sentiment\n",
              "0  One of the other reviewers has mentioned that ...  positive\n",
              "1  A wonderful little production. <br /><br />The...  positive\n",
              "2  I thought this was a wonderful way to spend ti...  positive\n",
              "3  Basically there's a family where a little boy ...  negative\n",
              "4  Petter Mattei's \"Love in the Time of Money\" is...  positive"
            ]
          },
          "execution_count": 2,
          "metadata": {},
          "output_type": "execute_result"
        }
      ],
      "source": [
        "# # Data Acquiring from kaggle:\n",
        "\n",
        "# !pip install kaggle\n",
        "\n",
        "# # Download Dataset using Kaggle API\n",
        "# ! kaggle datasets download -d lakshmi25npathi/imdb-dataset-of-50k-movie-reviews -p /content/drive/My\\ Drive/Datasets\n",
        "\n",
        "# # Extract the dataset\n",
        "# import zipfile\n",
        "\n",
        "# with zipfile.ZipFile('/content/drive/My Drive/Datasets/imdb-dataset-of-50k-movie-reviews.zip', 'r') as zip_ref:\n",
        "#     zip_ref.extractall('/content/drive/My Drive/Datasets/')\n",
        "\n",
        "# print(f'DataFrame has been saved.')\n",
        "\n",
        "\n",
        "# # Loading the dataset into a Pandas DataFrame\n",
        "# csv_file='/content/drive/My Drive/Datasets/IMDB Dataset.csv'\n",
        "# df = pd.read_csv(csv_file)\n",
        "# df.head()"
      ]
    },
    {
      "cell_type": "code",
      "execution_count": null,
      "metadata": {
        "id": "3M4sMo5_GlCd"
      },
      "outputs": [],
      "source": [
        "# # Loading the dataset into a Pandas DataFrame\n",
        "# csv_file='C:\\\\Users\\\\pc\\\\Documents\\\\IMDB Dataset.csv'\n",
        "# df = pd.read_csv(csv_file)\n",
        "# df.head()"
      ]
    },
    {
      "cell_type": "code",
      "execution_count": 48,
      "metadata": {
        "id": "qfTr-kYwPgtB"
      },
      "outputs": [
        {
          "data": {
            "text/html": [
              "<div>\n",
              "<style scoped>\n",
              "    .dataframe tbody tr th:only-of-type {\n",
              "        vertical-align: middle;\n",
              "    }\n",
              "\n",
              "    .dataframe tbody tr th {\n",
              "        vertical-align: top;\n",
              "    }\n",
              "\n",
              "    .dataframe thead th {\n",
              "        text-align: right;\n",
              "    }\n",
              "</style>\n",
              "<table border=\"1\" class=\"dataframe\">\n",
              "  <thead>\n",
              "    <tr style=\"text-align: right;\">\n",
              "      <th></th>\n",
              "      <th>review</th>\n",
              "      <th>sentiment</th>\n",
              "    </tr>\n",
              "  </thead>\n",
              "  <tbody>\n",
              "    <tr>\n",
              "      <th>0</th>\n",
              "      <td>One of the other reviewers has mentioned that ...</td>\n",
              "      <td>positive</td>\n",
              "    </tr>\n",
              "    <tr>\n",
              "      <th>1</th>\n",
              "      <td>A wonderful little production. &lt;br /&gt;&lt;br /&gt;The...</td>\n",
              "      <td>positive</td>\n",
              "    </tr>\n",
              "    <tr>\n",
              "      <th>2</th>\n",
              "      <td>I thought this was a wonderful way to spend ti...</td>\n",
              "      <td>positive</td>\n",
              "    </tr>\n",
              "    <tr>\n",
              "      <th>3</th>\n",
              "      <td>Basically there's a family where a little boy ...</td>\n",
              "      <td>negative</td>\n",
              "    </tr>\n",
              "    <tr>\n",
              "      <th>4</th>\n",
              "      <td>Petter Mattei's \"Love in the Time of Money\" is...</td>\n",
              "      <td>positive</td>\n",
              "    </tr>\n",
              "    <tr>\n",
              "      <th>...</th>\n",
              "      <td>...</td>\n",
              "      <td>...</td>\n",
              "    </tr>\n",
              "    <tr>\n",
              "      <th>49995</th>\n",
              "      <td>I thought this movie did a down right good job...</td>\n",
              "      <td>positive</td>\n",
              "    </tr>\n",
              "    <tr>\n",
              "      <th>49996</th>\n",
              "      <td>Bad plot, bad dialogue, bad acting, idiotic di...</td>\n",
              "      <td>negative</td>\n",
              "    </tr>\n",
              "    <tr>\n",
              "      <th>49997</th>\n",
              "      <td>I am a Catholic taught in parochial elementary...</td>\n",
              "      <td>negative</td>\n",
              "    </tr>\n",
              "    <tr>\n",
              "      <th>49998</th>\n",
              "      <td>I'm going to have to disagree with the previou...</td>\n",
              "      <td>negative</td>\n",
              "    </tr>\n",
              "    <tr>\n",
              "      <th>49999</th>\n",
              "      <td>No one expects the Star Trek movies to be high...</td>\n",
              "      <td>negative</td>\n",
              "    </tr>\n",
              "  </tbody>\n",
              "</table>\n",
              "<p>50000 rows × 2 columns</p>\n",
              "</div>"
            ],
            "text/plain": [
              "                                                  review sentiment\n",
              "0      One of the other reviewers has mentioned that ...  positive\n",
              "1      A wonderful little production. <br /><br />The...  positive\n",
              "2      I thought this was a wonderful way to spend ti...  positive\n",
              "3      Basically there's a family where a little boy ...  negative\n",
              "4      Petter Mattei's \"Love in the Time of Money\" is...  positive\n",
              "...                                                  ...       ...\n",
              "49995  I thought this movie did a down right good job...  positive\n",
              "49996  Bad plot, bad dialogue, bad acting, idiotic di...  negative\n",
              "49997  I am a Catholic taught in parochial elementary...  negative\n",
              "49998  I'm going to have to disagree with the previou...  negative\n",
              "49999  No one expects the Star Trek movies to be high...  negative\n",
              "\n",
              "[50000 rows x 2 columns]"
            ]
          },
          "execution_count": 48,
          "metadata": {},
          "output_type": "execute_result"
        }
      ],
      "source": [
        "df = pd.read_csv('IMDB Dataset.csv')\n",
        "df"
      ]
    },
    {
      "cell_type": "code",
      "execution_count": 49,
      "metadata": {
        "colab": {
          "base_uri": "https://localhost:8080/"
        },
        "id": "Xc0sfxfBPgtD",
        "outputId": "b40cc0df-c6b3-4bcf-9c63-0e8807494295"
      },
      "outputs": [
        {
          "name": "stdout",
          "output_type": "stream",
          "text": [
            "<class 'pandas.core.frame.DataFrame'>\n",
            "RangeIndex: 50000 entries, 0 to 49999\n",
            "Data columns (total 2 columns):\n",
            " #   Column     Non-Null Count  Dtype \n",
            "---  ------     --------------  ----- \n",
            " 0   review     50000 non-null  object\n",
            " 1   sentiment  50000 non-null  object\n",
            "dtypes: object(2)\n",
            "memory usage: 781.4+ KB\n"
          ]
        }
      ],
      "source": [
        "df.info()"
      ]
    },
    {
      "cell_type": "markdown",
      "metadata": {
        "id": "PQWoggr9PgtE"
      },
      "source": [
        "No null values present. Checking quantity  of duplicates."
      ]
    },
    {
      "cell_type": "code",
      "execution_count": 50,
      "metadata": {
        "colab": {
          "base_uri": "https://localhost:8080/"
        },
        "id": "QHkRzeETPgtF",
        "outputId": "83a75bd8-4f7f-4227-d449-789403a33b7f"
      },
      "outputs": [
        {
          "name": "stdout",
          "output_type": "stream",
          "text": [
            "418 values duplicated\n"
          ]
        }
      ],
      "source": [
        "print(f\"{df.duplicated().sum()} values duplicated\")"
      ]
    },
    {
      "cell_type": "code",
      "execution_count": 51,
      "metadata": {
        "colab": {
          "base_uri": "https://localhost:8080/"
        },
        "id": "neg9RZ7pPgtF",
        "outputId": "f1df412c-b65b-4fe1-ef36-f12b642f615e"
      },
      "outputs": [
        {
          "name": "stdout",
          "output_type": "stream",
          "text": [
            "0 values duplicated\n"
          ]
        }
      ],
      "source": [
        "df.drop_duplicates(inplace = True)\n",
        "print(f\"{df.duplicated().sum()} values duplicated\")"
      ]
    },
    {
      "cell_type": "markdown",
      "metadata": {
        "id": "ClrAqhDePgtG"
      },
      "source": [
        "Now that we've dealt with duplicate values, we're gonna look at the target variable distribution."
      ]
    },
    {
      "cell_type": "code",
      "execution_count": 52,
      "metadata": {
        "colab": {
          "base_uri": "https://localhost:8080/"
        },
        "id": "XAJUICblPgtH",
        "outputId": "a9f11a6e-7162-4aa3-aaba-1b57d60d2e62"
      },
      "outputs": [
        {
          "data": {
            "text/plain": [
              "<Axes: xlabel='sentiment'>"
            ]
          },
          "execution_count": 52,
          "metadata": {},
          "output_type": "execute_result"
        },
        {
          "data": {
            "image/png": "[encoded data removed]",
            "text/plain": [
              "<Figure size 640x480 with 1 Axes>"
            ]
          },
          "metadata": {},
          "output_type": "display_data"
        }
      ],
      "source": [
        "target_dist = df['sentiment'].value_counts()\n",
        "target_dist.plot(kind = 'bar')"
      ]
    },
    {
      "cell_type": "markdown",
      "metadata": {
        "id": "SQv4voMfPgtI"
      },
      "source": [
        "Balancing isn't needed. <br>\n",
        "\n",
        "Now, for each row, we're gonna preprocess the text by removing stopwords, punctuation, and converting the text to lowercase. We're also gonna tokenize the text and lemmatize it. We're gonna use the WordNetLemmatizer from the nltk library.\n",
        "    "
      ]
    },
    {
      "cell_type": "code",
      "execution_count": 53,
      "metadata": {
        "colab": {
          "base_uri": "https://localhost:8080/"
        },
        "id": "R57Nl-6qPgtI",
        "outputId": "0c19109e-078b-4b07-cc55-935cec882ad6"
      },
      "outputs": [
        {
          "data": {
            "text/plain": [
              "'A wonderful little production. <br /><br />The filming technique is very unassuming- very old-time-BBC fashion and gives a comforting, and sometimes discomforting, sense of realism to the entire piece. <br /><br />The actors are extremely well chosen- Michael Sheen not only \"has got all the polari\" but he has all the voices down pat too! You can truly see the seamless editing guided by the references to Williams\\' diary entries, not only is it well worth the watching but it is a terrificly written and performed piece. A masterful production about one of the great master\\'s of comedy and his life. <br /><br />The realism really comes home with the little things: the fantasy of the guard which, rather than use the traditional \\'dream\\' techniques remains solid then disappears. It plays on our knowledge and our senses, particularly with the scenes concerning Orton and Halliwell and the sets (particularly of their flat with Halliwell\\'s murals decorating every surface) are terribly well done.'"
            ]
          },
          "execution_count": 53,
          "metadata": {},
          "output_type": "execute_result"
        }
      ],
      "source": [
        "#Taking an example text for analyzing the preprocessing method to use\n",
        "text = df.iloc[1, 0]\n",
        "\n",
        "text"
      ]
    },
    {
      "cell_type": "code",
      "execution_count": 54,
      "metadata": {
        "colab": {
          "base_uri": "https://localhost:8080/"
        },
        "id": "cFsNxWraPgtI",
        "outputId": "710e2a6f-f6ce-4c69-d060-9570eae67cf2"
      },
      "outputs": [
        {
          "data": {
            "text/plain": [
              "'A wonderful little production. The filming technique is very unassuming- very old-time-BBC fashion and gives a comforting, and sometimes discomforting, sense of realism to the entire piece. The actors are extremely well chosen- Michael Sheen not only \"has got all the polari\" but he has all the voices down pat too! You can truly see the seamless editing guided by the references to Williams\\' diary entries, not only is it well worth the watching but it is a terrificly written and performed piece. A masterful production about one of the great master\\'s of comedy and his life. The realism really comes home with the little things: the fantasy of the guard which, rather than use the traditional \\'dream\\' techniques remains solid then disappears. It plays on our knowledge and our senses, particularly with the scenes concerning Orton and Halliwell and the sets (particularly of their flat with Halliwell\\'s murals decorating every surface) are terribly well done.'"
            ]
          },
          "execution_count": 54,
          "metadata": {},
          "output_type": "execute_result"
        }
      ],
      "source": [
        "#nltk.download('stopwords')\n",
        "\n",
        "stop_words = set(stopwords.words('english'))\n",
        "\n",
        "#For removing the HTML markdown tags (such as those present in text above)\n",
        "def remove_html_tags(text):\n",
        "    pattern = re.compile(\"<.*?>\")\n",
        "    return pattern.sub(r\"\", text)\n",
        "\n",
        "mkd_removed_text = remove_html_tags(text)\n",
        "mkd_removed_text"
      ]
    },
    {
      "cell_type": "code",
      "execution_count": 55,
      "metadata": {
        "colab": {
          "base_uri": "https://localhost:8080/"
        },
        "id": "jWHxGr-xPgtJ",
        "outputId": "dbbf9784-23d7-4df6-8408-90b8c7fae9b8"
      },
      "outputs": [
        {
          "data": {
            "text/plain": [
              "'a wonderful little production. the filming technique is very unassuming- very old-time-bbc fashion and gives a comforting, and sometimes discomforting, sense of realism to the entire piece. the actors are extremely well chosen- michael sheen not only \"has got all the polari\" but he has all the voices down pat too! you can truly see the seamless editing guided by the references to williams\\' diary entries, not only is it well worth the watching but it is a terrificly written and performed piece. a masterful production about one of the great master\\'s of comedy and his life. the realism really comes home with the little things: the fantasy of the guard which, rather than use the traditional \\'dream\\' techniques remains solid then disappears. it plays on our knowledge and our senses, particularly with the scenes concerning orton and halliwell and the sets (particularly of their flat with halliwell\\'s murals decorating every surface) are terribly well done.'"
            ]
          },
          "execution_count": 55,
          "metadata": {},
          "output_type": "execute_result"
        }
      ],
      "source": [
        "#Now, converting into lowercase\n",
        "mkd_removed_text = mkd_removed_text.lower()\n",
        "mkd_removed_text"
      ]
    },
    {
      "cell_type": "code",
      "execution_count": 56,
      "metadata": {
        "id": "zAtWqC2JPgtJ"
      },
      "outputs": [],
      "source": [
        "#For removing any type of links present in the text\n",
        "\n",
        "#For removing URL links\n",
        "def remove_url(text):\n",
        "    pattern = re.compile(r'https?://\\S+|www\\.\\S+')\n",
        "    return pattern.sub(r'', text)"
      ]
    },
    {
      "cell_type": "markdown",
      "metadata": {
        "id": "I6VgHdIUPgtK"
      },
      "source": [
        "\n",
        "- https?://: Matches http:// or https://. The s? part makes the s optional, so it matches both http and https.\n",
        "- \\S+: Matches one or more non-whitespace characters, effectively capturing the entire URL.\n",
        "- |: Acts as an OR operator, meaning the pattern will match either the left side (https?://\\S+) or the right side (www\\.\\S+).\n",
        "- www\\.\\S+: Matches URLs starting with www. followed by one or more non-whitespace characters.\n"
      ]
    },
    {
      "cell_type": "code",
      "execution_count": 57,
      "metadata": {
        "id": "pXR65wt8PgtK"
      },
      "outputs": [],
      "source": [
        "#Now, removing the punctuation marks\n",
        "punctuation_marks = string.punctuation\n",
        "\n",
        "def remove_punctuations(text):\n",
        "    for punctuation in punctuation_marks:\n",
        "        text = text.replace(punctuation, \"\")\n",
        "    return text"
      ]
    },
    {
      "cell_type": "code",
      "execution_count": 58,
      "metadata": {
        "colab": {
          "base_uri": "https://localhost:8080/"
        },
        "id": "2MMAEj_WPgtK",
        "outputId": "4eaae0c7-eaf2-4e1b-c347-4c3f5f01b44d"
      },
      "outputs": [
        {
          "name": "stdout",
          "output_type": "stream",
          "text": [
            "a wonderful little production the filming technique is very unassuming very oldtimebbc fashion and gives a comforting and sometimes discomforting sense of realism to the entire piece the actors are extremely well chosen michael sheen not only has got all the polari but he has all the voices down pat too you can truly see the seamless editing guided by the references to williams diary entries not only is it well worth the watching but it is a terrificly written and performed piece a masterful production about one of the great masters of comedy and his life the realism really comes home with the little things the fantasy of the guard which rather than use the traditional dream techniques remains solid then disappears it plays on our knowledge and our senses particularly with the scenes concerning orton and halliwell and the sets particularly of their flat with halliwells murals decorating every surface are terribly well done\n"
          ]
        }
      ],
      "source": [
        "mkd_url_removed =  remove_url(mkd_removed_text)\n",
        "mkd_punct_removed = remove_punctuations(mkd_url_removed)\n",
        "\n",
        "print(mkd_punct_removed)"
      ]
    },
    {
      "cell_type": "code",
      "execution_count": 59,
      "metadata": {
        "colab": {
          "base_uri": "https://localhost:8080/"
        },
        "id": "gJtWlp_dPgtL",
        "outputId": "d898385a-892c-4fdf-eb13-913958e1d6e1"
      },
      "outputs": [
        {
          "name": "stdout",
          "output_type": "stream",
          "text": [
            "wonderful little production filming technique unassuming oldtimebbc fashion gives comforting sometimes discomforting sense realism entire piece actors extremely well chosen michael sheen got polari voices pat truly see seamless editing guided references williams diary entries well worth watching terrificly written performed piece masterful production one great masters comedy life realism really comes home little things fantasy guard rather use traditional dream techniques remains solid disappears plays knowledge senses particularly scenes concerning orton halliwell sets particularly flat halliwells murals decorating every surface terribly well done\n"
          ]
        }
      ],
      "source": [
        "#Now, finally removing the stopwords\n",
        "def remove_stopwords(text):\n",
        "    words = text.split()\n",
        "    words = [word for word in words if word not in stop_words]\n",
        "    return \" \".join(words)\n",
        "\n",
        "mkd_stopwords_removed = remove_stopwords(mkd_punct_removed)\n",
        "print(mkd_stopwords_removed)"
      ]
    },
    {
      "cell_type": "code",
      "execution_count": 60,
      "metadata": {
        "id": "uVU3LhGmPgtL"
      },
      "outputs": [],
      "source": [
        "#Now that we've decided how to pre-process each line, we will do it for all the reviews present\n",
        "def preprocess_text(text):\n",
        "    text = remove_html_tags(text)\n",
        "    text = text.lower()\n",
        "    text = remove_url(text)\n",
        "    text = remove_punctuations(text)\n",
        "    text = remove_stopwords(text)\n",
        "    return text"
      ]
    },
    {
      "cell_type": "code",
      "execution_count": 61,
      "metadata": {
        "id": "RTMw2tLEPgtL"
      },
      "outputs": [],
      "source": [
        "no_rows = df.shape[0]\n",
        "for i in range(no_rows):\n",
        "    df.iloc[i, 0] = preprocess_text(df.iloc[i, 0])"
      ]
    },
    {
      "cell_type": "code",
      "execution_count": 62,
      "metadata": {
        "colab": {
          "base_uri": "https://localhost:8080/"
        },
        "id": "-5zo7vN4PgtM",
        "outputId": "d5ed0a52-8a9e-49a3-97db-777c85698827"
      },
      "outputs": [
        {
          "data": {
            "text/html": [
              "<div>\n",
              "<style scoped>\n",
              "    .dataframe tbody tr th:only-of-type {\n",
              "        vertical-align: middle;\n",
              "    }\n",
              "\n",
              "    .dataframe tbody tr th {\n",
              "        vertical-align: top;\n",
              "    }\n",
              "\n",
              "    .dataframe thead th {\n",
              "        text-align: right;\n",
              "    }\n",
              "</style>\n",
              "<table border=\"1\" class=\"dataframe\">\n",
              "  <thead>\n",
              "    <tr style=\"text-align: right;\">\n",
              "      <th></th>\n",
              "      <th>review</th>\n",
              "      <th>sentiment</th>\n",
              "    </tr>\n",
              "  </thead>\n",
              "  <tbody>\n",
              "    <tr>\n",
              "      <th>0</th>\n",
              "      <td>one reviewers mentioned watching 1 oz episode ...</td>\n",
              "      <td>positive</td>\n",
              "    </tr>\n",
              "    <tr>\n",
              "      <th>1</th>\n",
              "      <td>wonderful little production filming technique ...</td>\n",
              "      <td>positive</td>\n",
              "    </tr>\n",
              "    <tr>\n",
              "      <th>2</th>\n",
              "      <td>thought wonderful way spend time hot summer we...</td>\n",
              "      <td>positive</td>\n",
              "    </tr>\n",
              "    <tr>\n",
              "      <th>3</th>\n",
              "      <td>basically theres family little boy jake thinks...</td>\n",
              "      <td>negative</td>\n",
              "    </tr>\n",
              "    <tr>\n",
              "      <th>4</th>\n",
              "      <td>petter matteis love time money visually stunni...</td>\n",
              "      <td>positive</td>\n",
              "    </tr>\n",
              "    <tr>\n",
              "      <th>...</th>\n",
              "      <td>...</td>\n",
              "      <td>...</td>\n",
              "    </tr>\n",
              "    <tr>\n",
              "      <th>49995</th>\n",
              "      <td>thought movie right good job wasnt creative or...</td>\n",
              "      <td>positive</td>\n",
              "    </tr>\n",
              "    <tr>\n",
              "      <th>49996</th>\n",
              "      <td>bad plot bad dialogue bad acting idiotic direc...</td>\n",
              "      <td>negative</td>\n",
              "    </tr>\n",
              "    <tr>\n",
              "      <th>49997</th>\n",
              "      <td>catholic taught parochial elementary schools n...</td>\n",
              "      <td>negative</td>\n",
              "    </tr>\n",
              "    <tr>\n",
              "      <th>49998</th>\n",
              "      <td>im going disagree previous comment side maltin...</td>\n",
              "      <td>negative</td>\n",
              "    </tr>\n",
              "    <tr>\n",
              "      <th>49999</th>\n",
              "      <td>one expects star trek movies high art fans exp...</td>\n",
              "      <td>negative</td>\n",
              "    </tr>\n",
              "  </tbody>\n",
              "</table>\n",
              "<p>49582 rows × 2 columns</p>\n",
              "</div>"
            ],
            "text/plain": [
              "                                                  review sentiment\n",
              "0      one reviewers mentioned watching 1 oz episode ...  positive\n",
              "1      wonderful little production filming technique ...  positive\n",
              "2      thought wonderful way spend time hot summer we...  positive\n",
              "3      basically theres family little boy jake thinks...  negative\n",
              "4      petter matteis love time money visually stunni...  positive\n",
              "...                                                  ...       ...\n",
              "49995  thought movie right good job wasnt creative or...  positive\n",
              "49996  bad plot bad dialogue bad acting idiotic direc...  negative\n",
              "49997  catholic taught parochial elementary schools n...  negative\n",
              "49998  im going disagree previous comment side maltin...  negative\n",
              "49999  one expects star trek movies high art fans exp...  negative\n",
              "\n",
              "[49582 rows x 2 columns]"
            ]
          },
          "execution_count": 62,
          "metadata": {},
          "output_type": "execute_result"
        }
      ],
      "source": [
        "df"
      ]
    },
    {
      "cell_type": "markdown",
      "metadata": {
        "id": "r5Gv_r3uPgtM"
      },
      "source": [
        "Data has been successfully pre-processed. Now, preparing the data for training the model.\n",
        "\n",
        "Since we're tackling with text-based data, we will have to use the bag-of-words model, utilizing techniques such as TF vectorization\n",
        "    "
      ]
    },
    {
      "cell_type": "code",
      "execution_count": 63,
      "metadata": {
        "id": "joYmr_VHPgtM"
      },
      "outputs": [
        {
          "data": {
            "text/plain": [
              "['vectorizer.pkl']"
            ]
          },
          "execution_count": 63,
          "metadata": {},
          "output_type": "execute_result"
        }
      ],
      "source": [
        "X = df['review']\n",
        "Y = df['sentiment']\n",
        "\n",
        "le = LabelEncoder()\n",
        "Y_enc = le.fit_transform(Y)\n",
        "x_train, x_test, y_train, y_test = train_test_split(X, Y_enc, test_size = 0.25, random_state = 42)\n",
        "\n",
        "vectorizer = CountVectorizer()\n",
        "x_train = vectorizer.fit_transform(x_train)\n",
        "x_test = vectorizer.transform(x_test)\n",
        "\n",
        "# Save the fitted CountVectorizer for future use\n",
        "joblib.dump(vectorizer, 'vectorizer.pkl')"
      ]
    },
    {
      "cell_type": "markdown",
      "metadata": {
        "id": "-ykrkVD3PgtM"
      },
      "source": [
        "Now, our data is ready to be put into the models"
      ]
    },
    {
      "cell_type": "markdown",
      "metadata": {
        "id": "Xg1ReoAqPgtN"
      },
      "source": [
        "**Preprocessing done by Fahad Salman Amim (26/7/2024)**"
      ]
    },
    {
      "cell_type": "markdown",
      "metadata": {
        "id": "Eh9GIiJ1PgtN"
      },
      "source": [
        "***\n",
        "***"
      ]
    },
    {
      "cell_type": "markdown",
      "metadata": {
        "id": "QkpGFnNmPgtN"
      },
      "source": [
        "## **Model Development**"
      ]
    },
    {
      "cell_type": "markdown",
      "metadata": {
        "id": "RG3Tif7xGdwP"
      },
      "source": [
        "### **Using ML models:**"
      ]
    },
    {
      "cell_type": "markdown",
      "metadata": {
        "id": "rLwD6dqVPgtW"
      },
      "source": [
        "#### **Initializing Naive Bayes models**"
      ]
    },
    {
      "cell_type": "code",
      "execution_count": 18,
      "metadata": {
        "id": "S8cEx5IePgtW"
      },
      "outputs": [],
      "source": [
        "mn = MultinomialNB()\n",
        "bn = BernoulliNB()"
      ]
    },
    {
      "cell_type": "markdown",
      "metadata": {
        "id": "q7th5sujPgtW"
      },
      "source": [
        "##### MultinomialNB\n"
      ]
    },
    {
      "cell_type": "code",
      "execution_count": 19,
      "metadata": {
        "id": "20P1LGeCPgtW"
      },
      "outputs": [],
      "source": [
        "# MultinomialNB\n",
        "mn.fit(x_train, y_train)\n",
        "mn_pred_test = mn.predict(x_test)\n",
        "mn_pred_train = mn.predict(x_train)"
      ]
    },
    {
      "cell_type": "markdown",
      "metadata": {
        "id": "w3Biw9rdPgtX"
      },
      "source": [
        "##### BernoulliNB\n"
      ]
    },
    {
      "cell_type": "code",
      "execution_count": 20,
      "metadata": {
        "id": "Xtg2DyN_PgtX"
      },
      "outputs": [],
      "source": [
        "# BernoulliNB\n",
        "bn.fit(x_train, y_train)\n",
        "bn_pred_test = bn.predict(x_test)\n",
        "bn_pred_train = bn.predict(x_train)"
      ]
    },
    {
      "cell_type": "markdown",
      "metadata": {
        "id": "DwW0RmunmhYR"
      },
      "source": [
        "\n",
        "\n",
        "---\n",
        "\n",
        "\n",
        "\n",
        "---\n",
        "\n"
      ]
    },
    {
      "cell_type": "markdown",
      "metadata": {
        "id": "c5jd3ajs_LPJ"
      },
      "source": [
        "#### **Logistic Regression**"
      ]
    },
    {
      "cell_type": "code",
      "execution_count": 21,
      "metadata": {
        "id": "Sh6PASK8_KX-"
      },
      "outputs": [],
      "source": [
        "# Initializing Logistic Regression model\n",
        "lr = LogisticRegression()\n",
        "\n",
        "# Training the model\n",
        "lr.fit(x_train, y_train)\n",
        "\n",
        "# Making predictions on the test set\n",
        "lr_pred_test = lr.predict(x_test)\n",
        "\n",
        "# Making predictions on the train set\n",
        "lr_pred_train = lr.predict(x_train)"
      ]
    },
    {
      "cell_type": "markdown",
      "metadata": {
        "id": "6OwlNePaGqNv"
      },
      "source": [
        "#### **Random Forest**"
      ]
    },
    {
      "cell_type": "code",
      "execution_count": 22,
      "metadata": {
        "id": "YNXAFMXOGpGF"
      },
      "outputs": [],
      "source": [
        "# Initializing Logistic Regression model\n",
        "rfc = RandomForestClassifier(n_estimators=100, random_state=42)\n",
        "\n",
        "# Training the model\n",
        "rfc.fit(x_train, y_train)\n",
        "\n",
        "# Making predictions on the test set\n",
        "rfc_pred_test = rfc.predict(x_test)\n",
        "\n",
        "# Making predictions on the train set\n",
        "rfc_pred_train = rfc.predict(x_train)"
      ]
    },
    {
      "cell_type": "markdown",
      "metadata": {},
      "source": [
        "**ML NB models done by : Malaika Ahmed**"
      ]
    },
    {
      "cell_type": "markdown",
      "metadata": {
        "id": "styWnrCY9eR-"
      },
      "source": [
        "#### **Using Deep Learning Model:**\n",
        "\n",
        "Applying a neural network to text data\n"
      ]
    },
    {
      "cell_type": "code",
      "execution_count": 66,
      "metadata": {
        "id": "5-dSel9c9jcA"
      },
      "outputs": [],
      "source": [
        "# Seperating target and features\n",
        "X1 = df['review']\n",
        "y1 = df['sentiment']"
      ]
    },
    {
      "cell_type": "code",
      "execution_count": 67,
      "metadata": {
        "id": "hrxrSkpaBwie"
      },
      "outputs": [],
      "source": [
        "# Splitting the data into train and test sets\n",
        "X1_train, X1_test, y1_train, y1_test = train_test_split(X1, y1, test_size=0.2, random_state=42)"
      ]
    },
    {
      "cell_type": "code",
      "execution_count": 68,
      "metadata": {
        "colab": {
          "base_uri": "https://localhost:8080/"
        },
        "id": "0B6ao0uJePko",
        "outputId": "ce9d61ee-5ce6-4109-fd3e-e1ef4911ff60"
      },
      "outputs": [
        {
          "name": "stdout",
          "output_type": "stream",
          "text": [
            "Number of unique words (vocab_size): 5000\n",
            "Max sequence length (max_length): 131\n"
          ]
        }
      ],
      "source": [
        "# Determine max_words\n",
        "\n",
        "tokenizer = Tokenizer()\n",
        "tokenizer.fit_on_texts(X1_train)\n",
        "vocab_size = len(tokenizer.word_index)\n",
        "# Limit vocabulary size based on frequency (e.g., 5000 most frequent words)\n",
        "max_words = min(5000, vocab_size)\n",
        "\n",
        "# Reinitialize Tokenizer with limited vocabulary\n",
        "tokenizer = Tokenizer(num_words=max_words)\n",
        "tokenizer.fit_on_texts(X1_train)\n",
        "\n",
        "# Determine max_length\n",
        "\n",
        "x1_train_sequences = tokenizer.texts_to_sequences(X1_train)\n",
        "# max_length = max(len(seq) for seq in x1_train_sequences)  # Determine max_length dynamically\n",
        "max_length = int(np.percentile([len(seq) for seq in x1_train_sequences], 80))  # Determine max sequence length (e.g., 95th percentile)\n",
        "\n",
        "\n",
        "print(f\"Number of unique words (vocab_size): {max_words}\")\n",
        "print(f\"Max sequence length (max_length): {max_length}\")"
      ]
    },
    {
      "cell_type": "code",
      "execution_count": 72,
      "metadata": {
        "colab": {
          "base_uri": "https://localhost:8080/"
        },
        "id": "_Lr1deXfLeww",
        "outputId": "80780467-e9c4-4e57-de9b-4407c4af0387"
      },
      "outputs": [
        {
          "name": "stdout",
          "output_type": "stream",
          "text": [
            "Sizes and Samples Verification:\n",
            "--------------------------------\n",
            "Size of x1_train_padded: (39665, 100)\n",
            "Size of y1_train: (39665,)\n",
            "Size of x1_test_padded: (9917, 100)\n",
            "Size of y1_test: (9917,)\n",
            "--------------------------------\n",
            "Sample Data:\n",
            "--------------------------------\n",
            "Sample x1_train_padded:\n",
            "[[   9  303    1   72   60    4  455  233  202  221 4418  493    1   16\n",
            "     4 1194 1453  306  754  189  297   20    6   40  222   47 1269  249\n",
            "   117 2610    1    4  115   65 1901  173   65 1782  924   18  574  252\n",
            "    26 1137   72   79   65  924    1  259  189  259  108    0    0    0\n",
            "     0    0    0    0    0    0    0    0    0    0    0    0    0    0\n",
            "     0    0    0    0    0    0    0    0    0    0    0    0    0    0\n",
            "     0    0    0    0    0    0    0    0    0    0    0    0    0    0\n",
            "     0    0]\n",
            " [ 713   29    1 3008    1   43   85  705  381  148    1   57  567  564\n",
            "   456   54  137  294 2946  605    1   68  265 1523   74    8  805  472\n",
            "     1    7  106  907   46   85   64  210   13    4  133   46 1840 1217\n",
            "    10 4350   53   10 1167  419    1    9 1076   68   72  424 2922 4120\n",
            "  2621    0    0    0    0    0    0    0    0    0    0    0    0    0\n",
            "     0    0    0    0    0    0    0    0    0    0    0    0    0    0\n",
            "     0    0    0    0    0    0    0    0    0    0    0    0    0    0\n",
            "     0    0]\n",
            " [ 159   47   70  666    2   25  101 1039 2704 2414  500    2  122 2923\n",
            "   180  634  750 3385 2497   35 2531   21  666  422 4053 1298 1242 1499\n",
            "    53  651    1    3   39 3180 2257  387  599   36  222 1233  231 4101\n",
            "  1019  560   13  475 1634 1646  799   73 1412 2507 2507 3605  461  666\n",
            "   965  925   63  877    3   24  502  519    8 1654   39   45    1 3044\n",
            "    46  144  220  679 2704  332  101  106   63  152 1039  506  751 1201\n",
            "   363 1233 3237 3906  203  188 2019 1889 3403 1679  476 2845   30   24\n",
            "   109   58]\n",
            " [ 748 1120   38  655  142  877 2415   16  748 2665  991 3431 1637  195\n",
            "   176   23  389  421  421  421   41  608  630 1214 4351  430  547 1197\n",
            "  1561  547 1954   81   83 1611 4886  628   14  237   20  132   16  456\n",
            "   877 2579  949 1131 1863  569    0    0    0    0    0    0    0    0\n",
            "     0    0    0    0    0    0    0    0    0    0    0    0    0    0\n",
            "     0    0    0    0    0    0    0    0    0    0    0    0    0    0\n",
            "     0    0    0    0    0    0    0    0    0    0    0    0    0    0\n",
            "     0    0]]\n",
            "--------------------------------\n",
            "Sample y1_train:\n",
            "[0 0 1 0]\n"
          ]
        }
      ],
      "source": [
        "# Preprocessing steps:\n",
        "\n",
        "# # Defining max_words & max_length for tokenization and padding:\n",
        "max_words = 5000  # Maximum number of words to keep based on frequency\n",
        "max_length = 100  # Maximum length of sequences (words) or Vocabsize\n",
        "\n",
        "# Tokenization\n",
        "tokenizer = Tokenizer(num_words=max_words)\n",
        "tokenizer.fit_on_texts(X1_train)\n",
        "\n",
        "#Saving the tokenizer\n",
        "tokenizer_json = tokenizer.to_json()\n",
        "\n",
        "# Save the tokenizer JSON string to a file\n",
        "with open('tokenizer.json', 'w') as file:\n",
        "    json.dump(tokenizer_json, file)\n",
        "    \n",
        "\n",
        "x1_train_sequences = tokenizer.texts_to_sequences(X1_train)\n",
        "x1_test_sequences = tokenizer.texts_to_sequences(X1_test)\n",
        "\n",
        "# Padding\n",
        "x1_train_padded = pad_sequences(x1_train_sequences, maxlen=max_length, padding='post', truncating='post')\n",
        "x1_test_padded = pad_sequences(x1_test_sequences, maxlen=max_length, padding='post', truncating='post')\n",
        "\n",
        "# Converting labels to numerical format\n",
        "label_encoder = LabelEncoder()\n",
        "y1_train = label_encoder.fit_transform(y1_train)\n",
        "y1_test = label_encoder.transform(y1_test)\n",
        "\n",
        "# Printing sizes and samples to verify\n",
        "print(\"Sizes and Samples Verification:\")\n",
        "print(\"--------------------------------\")\n",
        "print(f\"Size of x1_train_padded: {x1_train_padded.shape}\")\n",
        "print(f\"Size of y1_train: {y1_train.shape}\")\n",
        "print(f\"Size of x1_test_padded: {x1_test_padded.shape}\")\n",
        "print(f\"Size of y1_test: {y1_test.shape}\")\n",
        "print(\"--------------------------------\")\n",
        "print(\"Sample Data:\")\n",
        "print(\"--------------------------------\")\n",
        "print(\"Sample x1_train_padded:\")\n",
        "print(x1_train_padded[:4])  # Print first 4 samples\n",
        "print(\"--------------------------------\")\n",
        "print(\"Sample y1_train:\")\n",
        "print(y1_train[:4])  # Print first 4 samples"
      ]
    },
    {
      "cell_type": "code",
      "execution_count": 27,
      "metadata": {
        "colab": {
          "base_uri": "https://localhost:8080/"
        },
        "id": "BLY0jyNOOAq5",
        "outputId": "7116d380-84ad-4b27-f892-7585d51e17bf"
      },
      "outputs": [
        {
          "name": "stdout",
          "output_type": "stream",
          "text": [
            "LSTM Model Summary:\n",
            "-------------------\n"
          ]
        },
        {
          "data": {
            "text/html": [
              "<pre style=\"white-space:pre;overflow-x:auto;line-height:normal;font-family:Menlo,'DejaVu Sans Mono',consolas,'Courier New',monospace\"><span style=\"font-weight: bold\">Model: \"sequential\"</span>\n",
              "</pre>\n"
            ],
            "text/plain": [
              "\u001b[1mModel: \"sequential\"\u001b[0m\n"
            ]
          },
          "metadata": {},
          "output_type": "display_data"
        },
        {
          "data": {
            "text/html": [
              "<pre style=\"white-space:pre;overflow-x:auto;line-height:normal;font-family:Menlo,'DejaVu Sans Mono',consolas,'Courier New',monospace\">┏━━━━━━━━━━━━━━━━━━━━━━━━━━━━━━━━━┳━━━━━━━━━━━━━━━━━━━━━━━━┳━━━━━━━━━━━━━━━┓\n",
              "┃<span style=\"font-weight: bold\"> Layer (type)                    </span>┃<span style=\"font-weight: bold\"> Output Shape           </span>┃<span style=\"font-weight: bold\">       Param # </span>┃\n",
              "┡━━━━━━━━━━━━━━━━━━━━━━━━━━━━━━━━━╇━━━━━━━━━━━━━━━━━━━━━━━━╇━━━━━━━━━━━━━━━┩\n",
              "│ embedding (<span style=\"color: #0087ff; text-decoration-color: #0087ff\">Embedding</span>)           │ (<span style=\"color: #00d7ff; text-decoration-color: #00d7ff\">None</span>, <span style=\"color: #00af00; text-decoration-color: #00af00\">100</span>, <span style=\"color: #00af00; text-decoration-color: #00af00\">64</span>)        │       <span style=\"color: #00af00; text-decoration-color: #00af00\">320,000</span> │\n",
              "├─────────────────────────────────┼────────────────────────┼───────────────┤\n",
              "│ lstm (<span style=\"color: #0087ff; text-decoration-color: #0087ff\">LSTM</span>)                     │ (<span style=\"color: #00d7ff; text-decoration-color: #00d7ff\">None</span>, <span style=\"color: #00af00; text-decoration-color: #00af00\">100</span>, <span style=\"color: #00af00; text-decoration-color: #00af00\">64</span>)        │        <span style=\"color: #00af00; text-decoration-color: #00af00\">33,024</span> │\n",
              "├─────────────────────────────────┼────────────────────────┼───────────────┤\n",
              "│ dropout (<span style=\"color: #0087ff; text-decoration-color: #0087ff\">Dropout</span>)               │ (<span style=\"color: #00d7ff; text-decoration-color: #00d7ff\">None</span>, <span style=\"color: #00af00; text-decoration-color: #00af00\">100</span>, <span style=\"color: #00af00; text-decoration-color: #00af00\">64</span>)        │             <span style=\"color: #00af00; text-decoration-color: #00af00\">0</span> │\n",
              "├─────────────────────────────────┼────────────────────────┼───────────────┤\n",
              "│ lstm_1 (<span style=\"color: #0087ff; text-decoration-color: #0087ff\">LSTM</span>)                   │ (<span style=\"color: #00d7ff; text-decoration-color: #00d7ff\">None</span>, <span style=\"color: #00af00; text-decoration-color: #00af00\">64</span>)             │        <span style=\"color: #00af00; text-decoration-color: #00af00\">33,024</span> │\n",
              "├─────────────────────────────────┼────────────────────────┼───────────────┤\n",
              "│ dropout_1 (<span style=\"color: #0087ff; text-decoration-color: #0087ff\">Dropout</span>)             │ (<span style=\"color: #00d7ff; text-decoration-color: #00d7ff\">None</span>, <span style=\"color: #00af00; text-decoration-color: #00af00\">64</span>)             │             <span style=\"color: #00af00; text-decoration-color: #00af00\">0</span> │\n",
              "├─────────────────────────────────┼────────────────────────┼───────────────┤\n",
              "│ dense (<span style=\"color: #0087ff; text-decoration-color: #0087ff\">Dense</span>)                   │ (<span style=\"color: #00d7ff; text-decoration-color: #00d7ff\">None</span>, <span style=\"color: #00af00; text-decoration-color: #00af00\">1</span>)              │            <span style=\"color: #00af00; text-decoration-color: #00af00\">65</span> │\n",
              "└─────────────────────────────────┴────────────────────────┴───────────────┘\n",
              "</pre>\n"
            ],
            "text/plain": [
              "┏━━━━━━━━━━━━━━━━━━━━━━━━━━━━━━━━━┳━━━━━━━━━━━━━━━━━━━━━━━━┳━━━━━━━━━━━━━━━┓\n",
              "┃\u001b[1m \u001b[0m\u001b[1mLayer (type)                   \u001b[0m\u001b[1m \u001b[0m┃\u001b[1m \u001b[0m\u001b[1mOutput Shape          \u001b[0m\u001b[1m \u001b[0m┃\u001b[1m \u001b[0m\u001b[1m      Param #\u001b[0m\u001b[1m \u001b[0m┃\n",
              "┡━━━━━━━━━━━━━━━━━━━━━━━━━━━━━━━━━╇━━━━━━━━━━━━━━━━━━━━━━━━╇━━━━━━━━━━━━━━━┩\n",
              "│ embedding (\u001b[38;5;33mEmbedding\u001b[0m)           │ (\u001b[38;5;45mNone\u001b[0m, \u001b[38;5;34m100\u001b[0m, \u001b[38;5;34m64\u001b[0m)        │       \u001b[38;5;34m320,000\u001b[0m │\n",
              "├─────────────────────────────────┼────────────────────────┼───────────────┤\n",
              "│ lstm (\u001b[38;5;33mLSTM\u001b[0m)                     │ (\u001b[38;5;45mNone\u001b[0m, \u001b[38;5;34m100\u001b[0m, \u001b[38;5;34m64\u001b[0m)        │        \u001b[38;5;34m33,024\u001b[0m │\n",
              "├─────────────────────────────────┼────────────────────────┼───────────────┤\n",
              "│ dropout (\u001b[38;5;33mDropout\u001b[0m)               │ (\u001b[38;5;45mNone\u001b[0m, \u001b[38;5;34m100\u001b[0m, \u001b[38;5;34m64\u001b[0m)        │             \u001b[38;5;34m0\u001b[0m │\n",
              "├─────────────────────────────────┼────────────────────────┼───────────────┤\n",
              "│ lstm_1 (\u001b[38;5;33mLSTM\u001b[0m)                   │ (\u001b[38;5;45mNone\u001b[0m, \u001b[38;5;34m64\u001b[0m)             │        \u001b[38;5;34m33,024\u001b[0m │\n",
              "├─────────────────────────────────┼────────────────────────┼───────────────┤\n",
              "│ dropout_1 (\u001b[38;5;33mDropout\u001b[0m)             │ (\u001b[38;5;45mNone\u001b[0m, \u001b[38;5;34m64\u001b[0m)             │             \u001b[38;5;34m0\u001b[0m │\n",
              "├─────────────────────────────────┼────────────────────────┼───────────────┤\n",
              "│ dense (\u001b[38;5;33mDense\u001b[0m)                   │ (\u001b[38;5;45mNone\u001b[0m, \u001b[38;5;34m1\u001b[0m)              │            \u001b[38;5;34m65\u001b[0m │\n",
              "└─────────────────────────────────┴────────────────────────┴───────────────┘\n"
            ]
          },
          "metadata": {},
          "output_type": "display_data"
        },
        {
          "data": {
            "text/html": [
              "<pre style=\"white-space:pre;overflow-x:auto;line-height:normal;font-family:Menlo,'DejaVu Sans Mono',consolas,'Courier New',monospace\"><span style=\"font-weight: bold\"> Total params: </span><span style=\"color: #00af00; text-decoration-color: #00af00\">386,113</span> (1.47 MB)\n",
              "</pre>\n"
            ],
            "text/plain": [
              "\u001b[1m Total params: \u001b[0m\u001b[38;5;34m386,113\u001b[0m (1.47 MB)\n"
            ]
          },
          "metadata": {},
          "output_type": "display_data"
        },
        {
          "data": {
            "text/html": [
              "<pre style=\"white-space:pre;overflow-x:auto;line-height:normal;font-family:Menlo,'DejaVu Sans Mono',consolas,'Courier New',monospace\"><span style=\"font-weight: bold\"> Trainable params: </span><span style=\"color: #00af00; text-decoration-color: #00af00\">386,113</span> (1.47 MB)\n",
              "</pre>\n"
            ],
            "text/plain": [
              "\u001b[1m Trainable params: \u001b[0m\u001b[38;5;34m386,113\u001b[0m (1.47 MB)\n"
            ]
          },
          "metadata": {},
          "output_type": "display_data"
        },
        {
          "data": {
            "text/html": [
              "<pre style=\"white-space:pre;overflow-x:auto;line-height:normal;font-family:Menlo,'DejaVu Sans Mono',consolas,'Courier New',monospace\"><span style=\"font-weight: bold\"> Non-trainable params: </span><span style=\"color: #00af00; text-decoration-color: #00af00\">0</span> (0.00 B)\n",
              "</pre>\n"
            ],
            "text/plain": [
              "\u001b[1m Non-trainable params: \u001b[0m\u001b[38;5;34m0\u001b[0m (0.00 B)\n"
            ]
          },
          "metadata": {},
          "output_type": "display_data"
        }
      ],
      "source": [
        "# Building an LSTM model\n",
        "\n",
        "model_LSTM = Sequential([\n",
        "    Embedding(input_dim=max_words, output_dim=64, input_length=max_length),\n",
        "    LSTM(64, return_sequences=True),\n",
        "    Dropout(0.2),\n",
        "    LSTM(64),\n",
        "    Dropout(0.2),\n",
        "    Dense(units=1, activation='sigmoid')  # for binary classification\n",
        "])\n",
        "\n",
        "model_LSTM.build(input_shape=(None, max_length))\n",
        "\n",
        "# Compiling the model\n",
        "model_LSTM.compile(loss='binary_crossentropy', optimizer='adam', metrics=['accuracy'])\n",
        "\n",
        "# Printing model summary\n",
        "print(\"LSTM Model Summary:\")\n",
        "print(\"-------------------\")\n",
        "model_LSTM.summary()"
      ]
    },
    {
      "cell_type": "code",
      "execution_count": 28,
      "metadata": {
        "id": "iR8OmtvpOwIe"
      },
      "outputs": [
        {
          "name": "stdout",
          "output_type": "stream",
          "text": [
            "Epoch 1/10\n",
            "\u001b[1m1240/1240\u001b[0m \u001b[32m━━━━━━━━━━━━━━━━━━━━\u001b[0m\u001b[37m\u001b[0m \u001b[1m76s\u001b[0m 58ms/step - accuracy: 0.5546 - loss: 0.6781 - val_accuracy: 0.5580 - val_loss: 0.6836\n",
            "Epoch 2/10\n",
            "\u001b[1m1240/1240\u001b[0m \u001b[32m━━━━━━━━━━━━━━━━━━━━\u001b[0m\u001b[37m\u001b[0m \u001b[1m76s\u001b[0m 62ms/step - accuracy: 0.6773 - loss: 0.6018 - val_accuracy: 0.8353 - val_loss: 0.4022\n",
            "Epoch 3/10\n",
            "\u001b[1m1240/1240\u001b[0m \u001b[32m━━━━━━━━━━━━━━━━━━━━\u001b[0m\u001b[37m\u001b[0m \u001b[1m75s\u001b[0m 60ms/step - accuracy: 0.8652 - loss: 0.3429 - val_accuracy: 0.8636 - val_loss: 0.3244\n",
            "Epoch 4/10\n",
            "\u001b[1m1240/1240\u001b[0m \u001b[32m━━━━━━━━━━━━━━━━━━━━\u001b[0m\u001b[37m\u001b[0m \u001b[1m75s\u001b[0m 61ms/step - accuracy: 0.8954 - loss: 0.2679 - val_accuracy: 0.8687 - val_loss: 0.3154\n",
            "Epoch 5/10\n",
            "\u001b[1m1240/1240\u001b[0m \u001b[32m━━━━━━━━━━━━━━━━━━━━\u001b[0m\u001b[37m\u001b[0m \u001b[1m75s\u001b[0m 61ms/step - accuracy: 0.9120 - loss: 0.2346 - val_accuracy: 0.8714 - val_loss: 0.3141\n",
            "Epoch 6/10\n",
            "\u001b[1m1240/1240\u001b[0m \u001b[32m━━━━━━━━━━━━━━━━━━━━\u001b[0m\u001b[37m\u001b[0m \u001b[1m76s\u001b[0m 61ms/step - accuracy: 0.9336 - loss: 0.1908 - val_accuracy: 0.8627 - val_loss: 0.3266\n",
            "Epoch 7/10\n",
            "\u001b[1m1240/1240\u001b[0m \u001b[32m━━━━━━━━━━━━━━━━━━━━\u001b[0m\u001b[37m\u001b[0m \u001b[1m76s\u001b[0m 61ms/step - accuracy: 0.9521 - loss: 0.1410 - val_accuracy: 0.8590 - val_loss: 0.3902\n",
            "Epoch 8/10\n",
            "\u001b[1m1240/1240\u001b[0m \u001b[32m━━━━━━━━━━━━━━━━━━━━\u001b[0m\u001b[37m\u001b[0m \u001b[1m76s\u001b[0m 61ms/step - accuracy: 0.9652 - loss: 0.1143 - val_accuracy: 0.8547 - val_loss: 0.4350\n",
            "Epoch 9/10\n",
            "\u001b[1m1240/1240\u001b[0m \u001b[32m━━━━━━━━━━━━━━━━━━━━\u001b[0m\u001b[37m\u001b[0m \u001b[1m76s\u001b[0m 61ms/step - accuracy: 0.9753 - loss: 0.0832 - val_accuracy: 0.8516 - val_loss: 0.4697\n",
            "Epoch 10/10\n",
            "\u001b[1m1240/1240\u001b[0m \u001b[32m━━━━━━━━━━━━━━━━━━━━\u001b[0m\u001b[37m\u001b[0m \u001b[1m76s\u001b[0m 61ms/step - accuracy: 0.9810 - loss: 0.0691 - val_accuracy: 0.8508 - val_loss: 0.5767\n"
          ]
        }
      ],
      "source": [
        "# Training the model\n",
        "history = model_LSTM.fit(x1_train_padded, y1_train, epochs=10, batch_size=32, validation_data=(x1_test_padded, y1_test))"
      ]
    },
    {
      "cell_type": "code",
      "execution_count": 29,
      "metadata": {
        "colab": {
          "base_uri": "https://localhost:8080/",
          "height": 224
        },
        "id": "R6rhBFtWR4RQ",
        "outputId": "964c556a-8aa1-4241-c0fc-24ebfbdb78ad"
      },
      "outputs": [
        {
          "name": "stdout",
          "output_type": "stream",
          "text": [
            "\u001b[1m310/310\u001b[0m \u001b[32m━━━━━━━━━━━━━━━━━━━━\u001b[0m\u001b[37m\u001b[0m \u001b[1m7s\u001b[0m 20ms/step\n"
          ]
        },
        {
          "data": {
            "text/html": [
              "<div>\n",
              "<style scoped>\n",
              "    .dataframe tbody tr th:only-of-type {\n",
              "        vertical-align: middle;\n",
              "    }\n",
              "\n",
              "    .dataframe tbody tr th {\n",
              "        vertical-align: top;\n",
              "    }\n",
              "\n",
              "    .dataframe thead th {\n",
              "        text-align: right;\n",
              "    }\n",
              "</style>\n",
              "<table border=\"1\" class=\"dataframe\">\n",
              "  <thead>\n",
              "    <tr style=\"text-align: right;\">\n",
              "      <th></th>\n",
              "      <th>y_test</th>\n",
              "      <th>predicted_y</th>\n",
              "    </tr>\n",
              "  </thead>\n",
              "  <tbody>\n",
              "    <tr>\n",
              "      <th>0</th>\n",
              "      <td>0</td>\n",
              "      <td>0.001345</td>\n",
              "    </tr>\n",
              "    <tr>\n",
              "      <th>1</th>\n",
              "      <td>1</td>\n",
              "      <td>0.004321</td>\n",
              "    </tr>\n",
              "    <tr>\n",
              "      <th>2</th>\n",
              "      <td>0</td>\n",
              "      <td>0.001473</td>\n",
              "    </tr>\n",
              "    <tr>\n",
              "      <th>3</th>\n",
              "      <td>0</td>\n",
              "      <td>0.183853</td>\n",
              "    </tr>\n",
              "    <tr>\n",
              "      <th>4</th>\n",
              "      <td>1</td>\n",
              "      <td>0.992177</td>\n",
              "    </tr>\n",
              "  </tbody>\n",
              "</table>\n",
              "</div>"
            ],
            "text/plain": [
              "   y_test  predicted_y\n",
              "0       0     0.001345\n",
              "1       1     0.004321\n",
              "2       0     0.001473\n",
              "3       0     0.183853\n",
              "4       1     0.992177"
            ]
          },
          "execution_count": 29,
          "metadata": {},
          "output_type": "execute_result"
        }
      ],
      "source": [
        "# Making predictions\n",
        "lstm_pred = model_LSTM.predict(x1_test_padded)\n",
        "lstm_pred = lstm_pred.flatten()\n",
        "predictions=pd.DataFrame({'y_test': y1_test, \"predicted_y\": lstm_pred})\n",
        "predictions.head(5)"
      ]
    },
    {
      "cell_type": "code",
      "execution_count": 30,
      "metadata": {
        "colab": {
          "base_uri": "https://localhost:8080/"
        },
        "id": "ywnLBdTnPOHk",
        "outputId": "c4196e0a-f563-4a18-8e39-9442354a2519"
      },
      "outputs": [
        {
          "name": "stdout",
          "output_type": "stream",
          "text": [
            "\u001b[1m310/310\u001b[0m \u001b[32m━━━━━━━━━━━━━━━━━━━━\u001b[0m\u001b[37m\u001b[0m \u001b[1m6s\u001b[0m 19ms/step - accuracy: 0.8464 - loss: 0.5939\n",
            "Test Accuracy: 85.08%\n"
          ]
        }
      ],
      "source": [
        "# Evaluating the model\n",
        "LSTM_loss, LSTM_acc = model_LSTM.evaluate(x1_test_padded, y1_test)\n",
        "print(f'Test Accuracy: {LSTM_acc*100:.2f}%')"
      ]
    },
    {
      "cell_type": "markdown",
      "metadata": {
        "id": "iQWM-R-XRjmN"
      },
      "source": [
        "#### ***Calculating the accuracy score for all ML Models:***"
      ]
    },
    {
      "cell_type": "code",
      "execution_count": 31,
      "metadata": {
        "id": "8NAGrlWiRTuH"
      },
      "outputs": [],
      "source": [
        "#Logistic Regression Test Accuracy\n",
        "lr_acc_test = accuracy_score(y_test, lr_pred_test)\n",
        "\n",
        "#MultinomialNB Test Accuracy\n",
        "mn_acc_test = accuracy_score(y_test, mn_pred_test)\n",
        "\n",
        "#BernoulliNB Test Accuracy\n",
        "bn_acc_test = accuracy_score(y_test, bn_pred_test)\n",
        "\n",
        "#Random Forest Test Accuracy\n",
        "rfc_acc_test = accuracy_score(y_test, rfc_pred_test)\n",
        "\n",
        "#Logistic Regression Train Accuracy\n",
        "lr_acc_train = accuracy_score(y_train, lr_pred_train)\n",
        "\n",
        "#MultinomialNB Train Accuracy\n",
        "mn_acc_train = accuracy_score(y_train, mn_pred_train)\n",
        "\n",
        "#BernoulliNB Train Accuracy\n",
        "bn_acc_train = accuracy_score(y_train, bn_pred_train)\n",
        "\n",
        "#Random Forest Train Accuracy\n",
        "rfc_acc_train = accuracy_score(y_train, rfc_pred_train)\n",
        "\n",
        "# LSTM and RNN work fine in sequence data and also the NB"
      ]
    },
    {
      "cell_type": "markdown",
      "metadata": {},
      "source": [
        "**Deep Learning model, Random Forest & Logistic Regression implemented by : Moneka**"
      ]
    },
    {
      "cell_type": "markdown",
      "metadata": {
        "id": "ssKWWdv8PgtY"
      },
      "source": [
        "\n",
        "\n",
        "\n",
        "---\n",
        "\n"
      ]
    },
    {
      "cell_type": "markdown",
      "metadata": {
        "id": "WZByJCMZ9NzN"
      },
      "source": [
        "## **Model Evaluation**"
      ]
    },
    {
      "cell_type": "code",
      "execution_count": 32,
      "metadata": {
        "colab": {
          "base_uri": "https://localhost:8080/"
        },
        "id": "jiMq8INEPgtY",
        "outputId": "3f80df4b-e1dc-405c-9b82-2a087f672a03"
      },
      "outputs": [
        {
          "name": "stdout",
          "output_type": "stream",
          "text": [
            "Accuracy Table:\n",
            "                 Model   Accuracy\n",
            "0  Logistic Regression  88.230074\n",
            "1        Random Forest  85.342046\n",
            "2         M_NaiveBayes  85.640529\n",
            "3         B_NaiveBayes  85.567925\n",
            "4                 LSTM  85.076129\n",
            "\n",
            "Best Model: Logistic Regression with Accuracy: 88.23007421748952\n"
          ]
        }
      ],
      "source": [
        "# Creating a DataFrame for accuracy table of all models\n",
        "acc_table = pd.DataFrame({\n",
        "    \"Model\": [\"Logistic Regression\", \"Random Forest\",\"M_NaiveBayes\",\"B_NaiveBayes\", \"LSTM\"],\n",
        "    \"Accuracy\": [lr_acc_test*100, rfc_acc_test*100, mn_acc_test*100, bn_acc_test*100, LSTM_acc*100]\n",
        "})\n",
        "\n",
        "# best model based on accuracy\n",
        "best_model = acc_table.loc[acc_table['Accuracy'].idxmax()]\n",
        "\n",
        "print(\"Accuracy Table:\")\n",
        "print(acc_table)\n",
        "\n",
        "print(f\"\\nBest Model: {best_model['Model']} with Accuracy: {best_model['Accuracy']}\")"
      ]
    },
    {
      "cell_type": "code",
      "execution_count": 33,
      "metadata": {
        "id": "3Adk_K8j4vlu",
        "outputId": "627e5b7c-d17d-44b3-9cc8-fee17a73cf76"
      },
      "outputs": [
        {
          "data": {
            "image/png": "[encoded data removed]",
            "text/plain": [
              "<Figure size 1000x600 with 1 Axes>"
            ]
          },
          "metadata": {},
          "output_type": "display_data"
        },
        {
          "data": {
            "image/png": "[encoded data removed]",
            "text/plain": [
              "<Figure size 1200x600 with 1 Axes>"
            ]
          },
          "metadata": {},
          "output_type": "display_data"
        }
      ],
      "source": [
        "\n",
        "lr_train_acc = lr.score(x_train, y_train)\n",
        "lr_test_acc = lr.score(x_test, y_test)\n",
        "\n",
        "mn_train_acc = mn.score(x_train, y_train)\n",
        "mn_test_acc = mn.score(x_test, y_test)\n",
        "\n",
        "bn_train_acc = bn.score(x_train, y_train)\n",
        "bn_test_acc = bn.score(x_test, y_test)\n",
        "\n",
        "LSTM_train_acc = history.history['accuracy'][-1]\n",
        "LSTM_test_acc = history.history['val_accuracy'][-1]\n",
        "\n",
        "# Creating a DataFrame for accuracy table of all models\n",
        "acc_table = pd.DataFrame({\n",
        "    \"Model\": [\"Logistic Regression\", \"Multinomial Naive Bayes\", \"Bernoulli Naive Bayes\", \"LSTM\"],\n",
        "    \"Train Accuracy\": [lr_train_acc, mn_train_acc, bn_train_acc, LSTM_train_acc],\n",
        "    \"Test Accuracy\": [lr_test_acc, mn_test_acc, bn_test_acc, LSTM_test_acc]\n",
        "})\n",
        "plt.figure(figsize=(10, 6))\n",
        "bar_width = 0.35\n",
        "index = np.arange(len(acc_table['Model']))\n",
        "\n",
        "# Plotting training accuracy\n",
        "plt.bar(index, acc_table['Train Accuracy'], bar_width, label='Train Accuracy', color='blue')\n",
        "\n",
        "# Plotting test accuracy\n",
        "plt.bar(index + bar_width, acc_table['Test Accuracy'], bar_width, label='Test Accuracy', color='green')\n",
        "plt.xlabel('Model')\n",
        "plt.ylabel('Accuracy')\n",
        "plt.title('Model Accuracy Comparison')\n",
        "plt.xticks(index + bar_width / 2, acc_table['Model'])\n",
        "plt.ylim(0, 1)\n",
        "plt.legend()\n",
        "for i in range(len(acc_table)):\n",
        "    plt.text(i, acc_table['Train Accuracy'][i], f\"{acc_table['Train Accuracy'][i]:.2f}\", ha='center', va='bottom')\n",
        "    plt.text(i + bar_width, acc_table['Test Accuracy'][i], f\"{acc_table['Test Accuracy'][i]:.2f}\", ha='center', va='bottom')\n",
        "\n",
        "plt.show()\n",
        "plt.figure(figsize=(12, 6))\n",
        "plt.plot(history.history['accuracy'], label='Train Accuracy')\n",
        "plt.plot(history.history['val_accuracy'], label='Validation Accuracy')\n",
        "plt.xlabel('Epoch')\n",
        "plt.ylabel('Accuracy')\n",
        "plt.title('LSTM Model Training and Validation Accuracy')\n",
        "plt.legend()\n",
        "plt.show()\n"
      ]
    },
    {
      "cell_type": "code",
      "execution_count": 34,
      "metadata": {
        "id": "93FXZ_1v4vlz",
        "outputId": "302fc914-8977-4836-cb12-2a4701f669cf"
      },
      "outputs": [
        {
          "data": {
            "image/png": "[encoded data removed]",
            "text/plain": [
              "<Figure size 1000x600 with 1 Axes>"
            ]
          },
          "metadata": {},
          "output_type": "display_data"
        },
        {
          "data": {
            "image/png": "[encoded data removed]",
            "text/plain": [
              "<Figure size 1200x600 with 1 Axes>"
            ]
          },
          "metadata": {},
          "output_type": "display_data"
        }
      ],
      "source": [
        "\n",
        "lr_train_loss = log_loss(y_train, lr.predict_proba(x_train))\n",
        "lr_test_loss = log_loss(y_test, lr.predict_proba(x_test))\n",
        "\n",
        "mn_train_loss = log_loss(y_train, mn.predict_proba(x_train))\n",
        "mn_test_loss = log_loss(y_test, mn.predict_proba(x_test))\n",
        "\n",
        "bn_train_loss = log_loss(y_train, bn.predict_proba(x_train))\n",
        "bn_test_loss = log_loss(y_test, bn.predict_proba(x_test))\n",
        "\n",
        "LSTM_train_loss = history.history['loss'][-1]  # Last epoch training loss\n",
        "LSTM_test_loss = history.history['val_loss'][-1]  # Last epoch validation loss\n",
        "\n",
        "\n",
        "acc_loss_table = pd.DataFrame({\n",
        "    \"Model\": [\"Logistic Regression\", \"Multinomial Naive Bayes\", \"Bernoulli Naive Bayes\", \"LSTM\"],\n",
        "    \"Train Loss\": [lr_train_loss, mn_train_loss, bn_train_loss, LSTM_train_loss],\n",
        "    \"Test Loss\": [lr_test_loss, mn_test_loss, bn_test_loss, LSTM_test_loss]\n",
        "})\n",
        "\n",
        "plt.figure(figsize=(10, 6))\n",
        "bar_width = 0.35\n",
        "index = np.arange(len(acc_loss_table['Model']))\n",
        "plt.bar(index, acc_loss_table['Train Loss'], bar_width, label='Train Loss', color='blue')\n",
        "plt.bar(index + bar_width, acc_loss_table['Test Loss'], bar_width, label='Test Loss', color='green')\n",
        "\n",
        "plt.xlabel('Model')\n",
        "plt.ylabel('Loss')\n",
        "plt.title('Model Loss Comparison')\n",
        "plt.xticks(index + bar_width / 2, acc_loss_table['Model'])\n",
        "plt.legend()\n",
        "\n",
        "for i in range(len(acc_loss_table)):\n",
        "    plt.text(i, acc_loss_table['Train Loss'][i], f\"{acc_loss_table['Train Loss'][i]:.2f}\", ha='center', va='bottom')\n",
        "    plt.text(i + bar_width, acc_loss_table['Test Loss'][i], f\"{acc_loss_table['Test Loss'][i]:.2f}\", ha='center', va='bottom')\n",
        "\n",
        "plt.show()\n",
        "plt.figure(figsize=(12, 6))\n",
        "plt.plot(history.history['loss'], label='Train Loss')\n",
        "plt.plot(history.history['val_loss'], label='Validation Loss')\n",
        "plt.xlabel('Epoch')\n",
        "plt.ylabel('Loss')\n",
        "plt.title('LSTM Model Training and Validation Loss')\n",
        "plt.legend()\n",
        "plt.show()\n"
      ]
    },
    {
      "cell_type": "code",
      "execution_count": 36,
      "metadata": {
        "id": "87-050pk4vl1",
        "outputId": "13f722b0-9afc-442a-f1cc-ab4e7df75d25"
      },
      "outputs": [
        {
          "name": "stdout",
          "output_type": "stream",
          "text": [
            "\u001b[1m310/310\u001b[0m \u001b[32m━━━━━━━━━━━━━━━━━━━━\u001b[0m\u001b[37m\u001b[0m \u001b[1m6s\u001b[0m 20ms/step\n",
            "Logistic Regression Classification Report:\n",
            "              precision    recall  f1-score   support\n",
            "\n",
            "           0       0.89      0.87      0.88      6168\n",
            "           1       0.88      0.89      0.88      6228\n",
            "\n",
            "    accuracy                           0.88     12396\n",
            "   macro avg       0.88      0.88      0.88     12396\n",
            "weighted avg       0.88      0.88      0.88     12396\n",
            "\n",
            "\n",
            "Multinomial Naive Bayes Classification Report:\n",
            "              precision    recall  f1-score   support\n",
            "\n",
            "           0       0.84      0.87      0.86      6168\n",
            "           1       0.87      0.84      0.85      6228\n",
            "\n",
            "    accuracy                           0.86     12396\n",
            "   macro avg       0.86      0.86      0.86     12396\n",
            "weighted avg       0.86      0.86      0.86     12396\n",
            "\n",
            "\n",
            "Bernoulli Naive Bayes Classification Report:\n",
            "              precision    recall  f1-score   support\n",
            "\n",
            "           0       0.84      0.88      0.86      6168\n",
            "           1       0.87      0.83      0.85      6228\n",
            "\n",
            "    accuracy                           0.86     12396\n",
            "   macro avg       0.86      0.86      0.86     12396\n",
            "weighted avg       0.86      0.86      0.86     12396\n",
            "\n",
            "\n",
            "LSTM Classification Report:\n",
            "              precision    recall  f1-score   support\n",
            "\n",
            "           0       0.83      0.87      0.85      4939\n",
            "           1       0.87      0.83      0.85      4978\n",
            "\n",
            "    accuracy                           0.85      9917\n",
            "   macro avg       0.85      0.85      0.85      9917\n",
            "weighted avg       0.85      0.85      0.85      9917\n",
            "\n"
          ]
        }
      ],
      "source": [
        "\n",
        "# Predictions\n",
        "lr_pred = lr.predict(x_test)\n",
        "mn_pred = mn.predict(x_test)\n",
        "bn_pred = bn.predict(x_test)\n",
        "lstm_pred = model_LSTM.predict(x1_test_padded)\n",
        "lstm_pred = np.where(lstm_pred > 0.5, 1, 0)  # Convert probabilities to binary predictions\n",
        "\n",
        "# Evaluation\n",
        "lr_accuracy = accuracy_score(y_test, lr_pred)\n",
        "mn_accuracy = accuracy_score(y_test, mn_pred)\n",
        "bn_accuracy = accuracy_score(y_test, bn_pred)\n",
        "lstm_accuracy = accuracy_score(y1_test, lstm_pred)\n",
        "\n",
        "# Confusion matrices\n",
        "lr_cm = confusion_matrix(y_test, lr_pred)\n",
        "mn_cm = confusion_matrix(y_test, mn_pred)\n",
        "bn_cm = confusion_matrix(y_test, bn_pred)\n",
        "lstm_cm = confusion_matrix(y1_test, lstm_pred)\n",
        "\n",
        "# Classification reports\n",
        "lr_report = classification_report(y_test, lr_pred)\n",
        "mn_report = classification_report(y_test, mn_pred)\n",
        "bn_report = classification_report(y_test, bn_pred)\n",
        "lstm_report = classification_report(y1_test, lstm_pred)\n",
        "\n",
        "# Displaying the classification reports\n",
        "print(\"Logistic Regression Classification Report:\")\n",
        "print(lr_report)\n",
        "print(\"\\nMultinomial Naive Bayes Classification Report:\")\n",
        "print(mn_report)\n",
        "print(\"\\nBernoulli Naive Bayes Classification Report:\")\n",
        "print(bn_report)\n",
        "print(\"\\nLSTM Classification Report:\")\n",
        "print(lstm_report)\n",
        "\n",
        "# Creating a DataFrame for accuracy comparison\n",
        "acc_table = pd.DataFrame({\n",
        "    \"Model\": [\"Logistic Regression\", \"Multinomial Naive Bayes\", \"Bernoulli Naive Bayes\", \"LSTM\"],\n",
        "    \"Accuracy\": [lr_accuracy, mn_accuracy, bn_accuracy, lstm_accuracy]\n",
        "})\n",
        "\n",
        "# Creating a DataFrame for loss comparison\n",
        "loss_table = pd.DataFrame({\n",
        "    \"Model\": [\"Logistic Regression\", \"Multinomial Naive Bayes\", \"Bernoulli Naive Bayes\", \"LSTM\"],\n",
        "    \"Loss\": [log_loss(y_test, lr.predict_proba(x_test)),\n",
        "             log_loss(y_test, mn.predict_proba(x_test)),\n",
        "             log_loss(y_test, bn.predict_proba(x_test)),\n",
        "             LSTM_test_loss]\n",
        "})\n",
        "\n"
      ]
    },
    {
      "cell_type": "markdown",
      "metadata": {},
      "source": [
        "**Evaluation Metrics done by : Hassan**"
      ]
    },
    {
      "cell_type": "code",
      "execution_count": 48,
      "metadata": {
        "id": "4a4N-T_e4vl3"
      },
      "outputs": [],
      "source": [
        "#Saving all the models for future use\n",
        "model_LSTM.save('LSTM_model.keras')  #The LSTM model\n",
        "\n",
        "joblib.dump(lr, \"lr_model.pkl\")  #Logistic Regression Model\n",
        "joblib.dump(mn, \"mn_model.pkl\")  #Multinomial Naive Bayes Model\n",
        "joblib.dump(bn, \"bn_model.pkl\")  #Bernoulli Naive Bayes Model\n",
        "joblib.dump(rfc, \"rfc_model.pkl\")  #Random Forest Model\n",
        " "
      ]
    },
    {
      "cell_type": "code",
      "execution_count": 44,
      "metadata": {
        "id": "Rwmk2COy4vl5"
      },
      "outputs": [
        {
          "name": "stdout",
          "output_type": "stream",
          "text": [
            "int32\n",
            "1\n"
          ]
        }
      ],
      "source": [
        "#Now checking the ML model on user's input\n",
        "inp = \"I love this movie!\"\n",
        "inp = preprocess_text(inp)\n",
        "inp = vectorizer.transform([inp])\n",
        "\n",
        "user_pred_lr = lr.predict(inp)\n",
        "print(user_pred_lr.dtype)\n",
        "print(user_pred_lr[0])"
      ]
    },
    {
      "cell_type": "code",
      "execution_count": 47,
      "metadata": {},
      "outputs": [
        {
          "name": "stdout",
          "output_type": "stream",
          "text": [
            "\u001b[1m1/1\u001b[0m \u001b[32m━━━━━━━━━━━━━━━━━━━━\u001b[0m\u001b[37m\u001b[0m \u001b[1m0s\u001b[0m 36ms/step\n",
            "float32\n",
            "0.8731277\n"
          ]
        }
      ],
      "source": [
        "#Now checking the DL model on user's input\n",
        "inp = \"I love this movie!\"\n",
        "inp = preprocess_text(inp)\n",
        "inp = tokenizer.texts_to_sequences([inp])\n",
        "inp = pad_sequences(inp, maxlen=max_length, padding='post', truncating='post')\n",
        "\n",
        "user_pred_lstm = model_LSTM.predict(inp)\n",
        "print(user_pred_lstm.dtype)\n",
        "print(user_pred_lstm[0][0])\n"
      ]
    },
    {
      "cell_type": "markdown",
      "metadata": {},
      "source": [
        "### **GUI Implementation**"
      ]
    },
    {
      "cell_type": "markdown",
      "metadata": {},
      "source": [
        "#### Run the code below if the earlier preprocessing cells were not run & you want to execute directly.\n",
        "However, to run directly, please ensure:\n",
        " - models are saved onto disk for easy loading\n",
        " - the cell block for importing libraries has been run"
      ]
    },
    {
      "cell_type": "code",
      "execution_count": 2,
      "metadata": {},
      "outputs": [],
      "source": [
        "def remove_html_tags(text):\n",
        "    pattern = re.compile(\"<.*?>\")\n",
        "    return pattern.sub(r\"\", text)\n",
        "\n",
        "def remove_url(text):\n",
        "    pattern = re.compile(r'https?://\\S+|www\\.\\S+')\n",
        "    return pattern.sub(r'', text)\n",
        "\n",
        "def remove_punctuations(text):\n",
        "    punctuation_marks = string.punctuation\n",
        "    for punctuation in punctuation_marks:\n",
        "        text = text.replace(punctuation, \"\")\n",
        "    return text\n",
        "\n",
        "def remove_stopwords(text):\n",
        "    stop_words = set(stopwords.words('english'))\n",
        "    words = text.split()\n",
        "    words = [word for word in words if word not in stop_words]\n",
        "    return \" \".join(words)\n",
        "\n",
        "def preprocess_text(text):\n",
        "    text = remove_html_tags(text)\n",
        "    text = text.lower()\n",
        "    text = remove_url(text)\n",
        "    text = remove_punctuations(text)\n",
        "    text = remove_stopwords(text)\n",
        "    return text"
      ]
    },
    {
      "cell_type": "code",
      "execution_count": 3,
      "metadata": {},
      "outputs": [],
      "source": [
        "with open('tokenizer.json') as f:\n",
        "    data = json.load(f)\n",
        "    tokenizer = tokenizer_from_json(data)\n",
        "\n",
        "vectorizer = joblib.load(\"vectorizer.pkl\")\n",
        "\n",
        "def preprocess_for_lstm(text):\n",
        "    max_words = 5000  # Maximum number of words to keep based on frequency\n",
        "    max_length = 100  # Maximum length of sequences (words) or Vocabsize\n",
        "    text = preprocess_text(text)\n",
        "    text = tokenizer.texts_to_sequences([text])\n",
        "    text = pad_sequences(text, maxlen=max_length, padding='post', truncating='post')\n",
        "    return text  #Text will be ready to be put into the LSTM\n",
        "\n",
        "def preprocess_for_ml(text):\n",
        "    text = preprocess_text(text)\n",
        "    text = vectorizer.transform([text])\n",
        "    return text #Text will be ready to be put into the ML models"
      ]
    },
    {
      "cell_type": "code",
      "execution_count": 4,
      "metadata": {},
      "outputs": [],
      "source": [
        "#Loading the models\n",
        "lstm_model = load_model('LSTM_model.keras')\n",
        "rfc_model = joblib.load(\"rfc_model.pkl\")\n",
        "lr_model = joblib.load(\"lr_model.pkl\")\n",
        "mn_model = joblib.load(\"mn_model.pkl\")\n",
        "bn_model = joblib.load(\"bn_model.pkl\")"
      ]
    },
    {
      "cell_type": "code",
      "execution_count": 75,
      "metadata": {},
      "outputs": [
        {
          "name": "stdout",
          "output_type": "stream",
          "text": [
            "\u001b[1m1/1\u001b[0m \u001b[32m━━━━━━━━━━━━━━━━━━━━\u001b[0m\u001b[37m\u001b[0m \u001b[1m0s\u001b[0m 35ms/step\n",
            "[[0.14149615]]\n"
          ]
        }
      ],
      "source": [
        "inp = \"I hate this movie!\"\n",
        "inp = preprocess_for_lstm(inp)\n",
        "pred = lstm_model.predict(inp)\n",
        "print(pred)"
      ]
    },
    {
      "cell_type": "code",
      "execution_count": 65,
      "metadata": {},
      "outputs": [
        {
          "name": "stdout",
          "output_type": "stream",
          "text": [
            "1\n"
          ]
        }
      ],
      "source": [
        "inp = \"I love this movie!\"\n",
        "n_inp = preprocess_for_ml(inp)\n",
        "pred = lr_model.predict(n_inp)\n",
        "print(pred[0])"
      ]
    },
    {
      "cell_type": "markdown",
      "metadata": {},
      "source": [
        "#### Preparing the main GUI"
      ]
    },
    {
      "cell_type": "code",
      "execution_count": 5,
      "metadata": {},
      "outputs": [
        {
          "name": "stdout",
          "output_type": "stream",
          "text": [
            "Negative\n",
            "Negative\n"
          ]
        }
      ],
      "source": [
        "# Main constructor\n",
        "root = tk.Tk()\n",
        "root.title(\"Sentiment Analyzer\")\n",
        "root.geometry(\"800x600\")\n",
        "\n",
        "models = {\n",
        "    \"Logistic Regression\": lr_model,\n",
        "    \"Random Forest\": rfc_model,\n",
        "    \"MultinomialNB\": mn_model,\n",
        "    \"BernoulliNB\": bn_model,\n",
        "    \"LSTM\": lstm_model\n",
        "}\n",
        "\n",
        "# Label for user input\n",
        "label = tk.Label(root, text=\"Enter the text to analyze:\", font=('Arial', 18))\n",
        "label.pack(pady=30)\n",
        "\n",
        "# The text box for user input\n",
        "TextBox = tk.Text(root, height=3, width=50, font=('Arial', 14))\n",
        "TextBox.pack()\n",
        "\n",
        "# Function to handle predictions\n",
        "def action_predict():\n",
        "    text = TextBox.get(\"1.0\", tk.END).strip()\n",
        "    if not text:\n",
        "        tk.messagebox.showerror(\"Input Error\", \"Please enter some text to analyze.\")\n",
        "        return\n",
        "\n",
        "    model_name = model_var.get()\n",
        "    model = models[model_name]\n",
        "\n",
        "    if model_name == \"LSTM\":\n",
        "        text = preprocess_for_lstm(text)\n",
        "        pred = model.predict(text)\n",
        "        result = \"Positive\" if pred[0][0] >= 0.5 else \"Negative\"\n",
        "        print(result)\n",
        "    else:\n",
        "        text = preprocess_for_ml(text)\n",
        "        pred = model.predict(text)\n",
        "        result = \"Positive\" if pred[0] == 1 else \"Negative\"\n",
        "        print(result)\n",
        "    \n",
        "    result_label.config(text=f\"Prediction: {result}\")\n",
        "\n",
        "# Drop-down menu for model selection\n",
        "model_var = tk.StringVar(value=\"Logistic Regression\")\n",
        "model_dropdown = ttk.Combobox(root, textvariable=model_var, values=list(models.keys()), state=\"readonly\", font=('Arial', 14))\n",
        "model_dropdown.pack(pady=20)\n",
        "\n",
        "# Button to trigger prediction\n",
        "predict_button = tk.Button(root, text=\"Predict\", font=('Arial', 14), command=action_predict)\n",
        "predict_button.pack(pady=20)\n",
        "\n",
        "# Label to display prediction\n",
        "result_label = tk.Label(root, text=\"\", font=('Arial', 14))\n",
        "result_label.pack(pady=20)\n",
        "\n",
        "root.mainloop()"
      ]
    },
    {
      "cell_type": "markdown",
      "metadata": {},
      "source": [
        "**GUI done by : Fahad Salman Amim**"
      ]
    }
  ],
  "metadata": {
    "accelerator": "GPU",
    "colab": {
      "collapsed_sections": [
        "kMRMjiFNCUUw",
        "0iMYa7njPgtA",
        "dBm8ksznHf79",
        "B82AERXBBmpw",
        "d6b2uuNdB1B5",
        "qO1Ai9vyB_Eg",
        "Z7uXHSNuCMdl",
        "kFSFvwKsCnv0",
        "c5jd3ajs_LPJ",
        "6OwlNePaGqNv"
      ],
      "gpuType": "T4",
      "provenance": [],
      "toc_visible": true
    },
    "kernelspec": {
      "display_name": "Python 3",
      "name": "python3"
    },
    "language_info": {
      "codemirror_mode": {
        "name": "ipython",
        "version": 3
      },
      "file_extension": ".py",
      "mimetype": "text/x-python",
      "name": "python",
      "nbconvert_exporter": "python",
      "pygments_lexer": "ipython3",
      "version": "3.11.9"
    }
  },
  "nbformat": 4,
  "nbformat_minor": 0
}
